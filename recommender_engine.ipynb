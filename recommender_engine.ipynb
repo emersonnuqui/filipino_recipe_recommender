{
 "cells": [
  {
   "cell_type": "code",
   "execution_count": 1,
   "id": "b1865e8e",
   "metadata": {},
   "outputs": [
    {
     "name": "stdout",
     "output_type": "stream",
     "text": [
      "Collecting googletrans==4.0.0-rc1\n",
      "  Downloading googletrans-4.0.0rc1.tar.gz (20 kB)\n",
      "  Preparing metadata (setup.py): started\n",
      "  Preparing metadata (setup.py): finished with status 'done'\n",
      "Collecting httpx==0.13.3\n",
      "  Downloading httpx-0.13.3-py3-none-any.whl (55 kB)\n",
      "     --------------------------------------- 55.1/55.1 kB 82.2 kB/s eta 0:00:00\n",
      "Requirement already satisfied: certifi in c:\\users\\emong\\anaconda3\\lib\\site-packages (from httpx==0.13.3->googletrans==4.0.0-rc1) (2021.5.30)\n",
      "Collecting rfc3986<2,>=1.3\n",
      "  Downloading rfc3986-1.5.0-py2.py3-none-any.whl (31 kB)\n",
      "Collecting idna==2.*\n",
      "  Downloading idna-2.10-py2.py3-none-any.whl (58 kB)\n",
      "     -------------------------------------- 58.8/58.8 kB 388.6 kB/s eta 0:00:00\n",
      "Collecting chardet==3.*\n",
      "  Downloading chardet-3.0.4-py2.py3-none-any.whl (133 kB)\n",
      "     ------------------------------------ 133.4/133.4 kB 414.5 kB/s eta 0:00:00\n",
      "Requirement already satisfied: sniffio in c:\\users\\emong\\anaconda3\\lib\\site-packages (from httpx==0.13.3->googletrans==4.0.0-rc1) (1.2.0)\n",
      "Collecting hstspreload\n",
      "  Downloading hstspreload-2023.1.1-py3-none-any.whl (1.5 MB)\n",
      "     ---------------------------------------- 1.5/1.5 MB 694.9 kB/s eta 0:00:00\n",
      "Collecting httpcore==0.9.*\n",
      "  Downloading httpcore-0.9.1-py3-none-any.whl (42 kB)\n",
      "     ---------------------------------------- 42.6/42.6 kB 1.0 MB/s eta 0:00:00\n",
      "Collecting h11<0.10,>=0.8\n",
      "  Downloading h11-0.9.0-py2.py3-none-any.whl (53 kB)\n",
      "     -------------------------------------- 53.6/53.6 kB 548.9 kB/s eta 0:00:00\n",
      "Collecting h2==3.*\n",
      "  Downloading h2-3.2.0-py2.py3-none-any.whl (65 kB)\n",
      "     -------------------------------------- 65.0/65.0 kB 589.3 kB/s eta 0:00:00\n",
      "Collecting hyperframe<6,>=5.2.0\n",
      "  Downloading hyperframe-5.2.0-py2.py3-none-any.whl (12 kB)\n",
      "Collecting hpack<4,>=3.0\n",
      "  Downloading hpack-3.0.0-py2.py3-none-any.whl (38 kB)\n",
      "Building wheels for collected packages: googletrans\n",
      "  Building wheel for googletrans (setup.py): started\n",
      "  Building wheel for googletrans (setup.py): finished with status 'done'\n",
      "  Created wheel for googletrans: filename=googletrans-4.0.0rc1-py3-none-any.whl size=17411 sha256=bb104160b112cb9a22105c68dd37723e764b2b3ec57b5c11b677ed1c03f5f387\n",
      "  Stored in directory: c:\\users\\emong\\appdata\\local\\pip\\cache\\wheels\\42\\11\\21\\8a967ed422029aa7e3a5ddbe672ab693db8ee9bac9dfc26cc0\n",
      "Successfully built googletrans\n",
      "Installing collected packages: rfc3986, hyperframe, hpack, h11, chardet, idna, hstspreload, h2, httpcore, httpx, googletrans\n",
      "  Attempting uninstall: h11\n",
      "    Found existing installation: h11 0.13.0\n",
      "    Uninstalling h11-0.13.0:\n",
      "      Successfully uninstalled h11-0.13.0\n",
      "  Attempting uninstall: chardet\n",
      "    Found existing installation: chardet 4.0.0\n",
      "    Uninstalling chardet-4.0.0:\n",
      "      Successfully uninstalled chardet-4.0.0\n",
      "  Attempting uninstall: idna\n",
      "    Found existing installation: idna 3.2\n",
      "    Uninstalling idna-3.2:\n",
      "      Successfully uninstalled idna-3.2\n",
      "Successfully installed chardet-3.0.4 googletrans-4.0.0rc1 h11-0.9.0 h2-3.2.0 hpack-3.0.0 hstspreload-2023.1.1 httpcore-0.9.1 httpx-0.13.3 hyperframe-5.2.0 idna-2.10 rfc3986-1.5.0\n"
     ]
    },
    {
     "name": "stderr",
     "output_type": "stream",
     "text": [
      "ERROR: pip's dependency resolver does not currently take into account all the packages that are installed. This behaviour is the source of the following dependency conflicts.\n",
      "spyder 5.1.5 requires pyqt5<5.13, which is not installed.\n",
      "spyder 5.1.5 requires pyqtwebengine<5.13, which is not installed.\n",
      "conda-repo-cli 1.0.4 requires pathlib, which is not installed.\n",
      "anaconda-project 0.10.2 requires ruamel-yaml, which is not installed.\n",
      "udemyscraper 0.8.2 requires idna==3.2, but you have idna 2.10 which is incompatible.\n",
      "udemyscraper 0.8.2 requires requests==2.26.0, but you have requests 2.28.2 which is incompatible.\n"
     ]
    }
   ],
   "source": [
    "!pip install googletrans==4.0.0-rc1"
   ]
  },
  {
   "cell_type": "code",
   "execution_count": 25,
   "id": "665e63f1",
   "metadata": {},
   "outputs": [],
   "source": [
    "import pandas as pd\n",
    "import numpy as np\n",
    "from googletrans import Translator\n",
    "\n",
    "from sklearn.feature_extraction.text import TfidfVectorizer\n",
    "from sklearn.metrics.pairwise import cosine_similarity, manhattan_distances, euclidean_distances"
   ]
  },
  {
   "cell_type": "code",
   "execution_count": 26,
   "id": "978a6597",
   "metadata": {},
   "outputs": [],
   "source": [
    "data = pd.read_csv(\"data/filipino_recipe_clean.csv\")"
   ]
  },
  {
   "cell_type": "code",
   "execution_count": 27,
   "id": "0023c4d4",
   "metadata": {},
   "outputs": [],
   "source": [
    "tf = TfidfVectorizer(analyzer='word', ngram_range=(1, 3), min_df=0, stop_words='english')\n",
    "tfidf_matrix = tf.fit_transform(data['ingredients_clean'])"
   ]
  },
  {
   "cell_type": "code",
   "execution_count": 28,
   "id": "11304bda",
   "metadata": {},
   "outputs": [
    {
     "data": {
      "text/plain": [
       "'bangus, milkfish, garlic, oil'"
      ]
     },
     "execution_count": 28,
     "metadata": {},
     "output_type": "execute_result"
    }
   ],
   "source": [
    "translator = Translator()\n",
    "text = \"bangus, milkfish, garlic, oil\"\n",
    "text = translator.translate(text, dest='en')\n",
    "text.text\n",
    "#test = tf.transform([])"
   ]
  },
  {
   "cell_type": "markdown",
   "id": "7041d617",
   "metadata": {},
   "source": [
    "### Cosine Similarity"
   ]
  },
  {
   "cell_type": "markdown",
   "id": "d351ca7d",
   "metadata": {},
   "source": [
    "- cosine similarity recommendations makes more sense compared to two similarity metrics"
   ]
  },
  {
   "cell_type": "code",
   "execution_count": 32,
   "id": "0034b007",
   "metadata": {},
   "outputs": [],
   "source": [
    "test = tf.transform([\"Bangus, milkfish, garlic, oil\"])\n",
    "test_cosine = cosine_similarity(tfidf_matrix, test)\n",
    "recommend_cosine = sorted(range(len(test_cosine)), key = lambda sub: test_cosine[sub])[-5:]"
   ]
  },
  {
   "cell_type": "code",
   "execution_count": 30,
   "id": "cd70b3e1",
   "metadata": {},
   "outputs": [
    {
     "name": "stdout",
     "output_type": "stream",
     "text": [
      "                                              recipe  \\\n",
      "0                                   Relyenong Bangus   \n",
      "1                             Tinolang Bangus Recipe   \n",
      "2  Genesee's Grilled Boneless Bangus in Pandan Le...   \n",
      "3                                    Bangus Salpicao   \n",
      "4               Fried Bangus Recipe (Fried Milkfish)   \n",
      "\n",
      "                                                 url  \\\n",
      "0    https://www.kawalingpinoy.com/relyenong-bangus/   \n",
      "1  https://panlasangpinoy.com/tinolang-bangus-rec...   \n",
      "2  https://panlasangpinoy.com/shared-recipe-genes...   \n",
      "3  https://panlasangpinoy.com/air-fryer-bangus-sa...   \n",
      "4    https://panlasangpinoy.com/fried-bangus-recipe/   \n",
      "\n",
      "                                         ingredients  score  \n",
      "0  1 large whole bangus milkfish, juice of 1 lemo...  0.221  \n",
      "1  1 large bangus milkfish, scales and innards re...  0.222  \n",
      "2  1 medium sized boneless bangus milkfish, 2 fre...  0.260  \n",
      "3  1 piece boneless milkfish, 4 teaspoons garlic ...  0.299  \n",
      "4  1 large boneless bangus milkfish; scales remov...  0.328  \n"
     ]
    }
   ],
   "source": [
    "#top = sorted(range(len(scores)), key = lambda i: scores[i])[-N:]\n",
    "#Create blank dataframe to load the recommendations \n",
    "recommendations = pd.DataFrame(columns=['recipe', 'url','ingredients'])\n",
    "count = 0\n",
    "for i in recommend_cosine:\n",
    "    recommendations.at[count, \"recipe\"] =  data[\"food\"][i]\n",
    "    recommendations.at[count, \"ingredients\"] = data[\"ingredients\"][i]\n",
    "    recommendations.at[count, \"url\"] = data[\"url\"][i]\n",
    "    #recommendations.at[count, \"score\"] = \"{:.3f}\".format(float(test_cosine[i]))\n",
    "    count += 1\n",
    "print(recommendations)"
   ]
  },
  {
   "cell_type": "code",
   "execution_count": 28,
   "id": "7341cb20",
   "metadata": {},
   "outputs": [
    {
     "name": "stdout",
     "output_type": "stream",
     "text": [
      "url                    https://www.kawalingpinoy.com/relyenong-bangus/\n",
      "food                                                  Relyenong Bangus\n",
      "course                                                            none\n",
      "ingredients          1 large whole bangus milkfish, juice of 1 lemo...\n",
      "instructions         Scale fish and remove innards, leaving belly i...\n",
      "ingredients_clean    bangus milkfish juice lemon soy sauce onion ga...\n",
      "ingredients_token    ['bangus', 'milkfish', 'juice', 'lemon', 'soy'...\n",
      "Name: 2159, dtype: object\n",
      "---------------------------------------\n",
      "url                  https://panlasangpinoy.com/tinolang-bangus-rec...\n",
      "food                                            Tinolang Bangus Recipe\n",
      "course                                                            none\n",
      "ingredients          1 large bangus milkfish, scales and innards re...\n",
      "instructions         Heat the oil in a cooking pot.\\r\\nSaute the on...\n",
      "ingredients_clean    bangus milkfish innards malunggay hot chayote ...\n",
      "ingredients_token    ['bangus', 'milkfish', 'innards', 'malunggay',...\n",
      "Name: 996, dtype: object\n",
      "---------------------------------------\n",
      "url                  https://panlasangpinoy.com/shared-recipe-genes...\n",
      "food                 Genesee's Grilled Boneless Bangus in Pandan Le...\n",
      "course                                                   Shared Recipe\n",
      "ingredients          1 medium sized boneless bangus milkfish, 2 fre...\n",
      "instructions         Wash the deboned fish and season with a little...\n",
      "ingredients_clean    bangus milkfish tomato dice onion dice pandan ...\n",
      "ingredients_token    ['bangus', 'milkfish', 'tomato', 'dice', 'onio...\n",
      "Name: 1496, dtype: object\n",
      "---------------------------------------\n",
      "url                  https://panlasangpinoy.com/air-fryer-bangus-sa...\n",
      "food                                                   Bangus Salpicao\n",
      "course                                                       Main Dish\n",
      "ingredients          1 piece boneless milkfish, 4 teaspoons garlic ...\n",
      "instructions         Slice the boneless bangus into serving pieces....\n",
      "ingredients_clean    milkfish garlic virgin olive worcestershire sa...\n",
      "ingredients_token    ['milkfish', 'garlic', 'virgin', 'olive', 'wor...\n",
      "Name: 322, dtype: object\n",
      "---------------------------------------\n",
      "url                    https://panlasangpinoy.com/fried-bangus-recipe/\n",
      "food                              Fried Bangus Recipe (Fried Milkfish)\n",
      "course                                                            none\n",
      "ingredients          1 large boneless bangus milkfish; scales remov...\n",
      "instructions         Combine vinegar, garlic, whole peppercorn, and...\n",
      "ingredients_clean    bangus milkfish butterflied white vinegar garl...\n",
      "ingredients_token    ['bangus', 'milkfish', 'butterflied', 'white',...\n",
      "Name: 1387, dtype: object\n",
      "---------------------------------------\n"
     ]
    }
   ],
   "source": [
    "for i in recommend_cosine:\n",
    "    print(data.iloc[i])\n",
    "    print(\"---------------------------------------\")"
   ]
  },
  {
   "cell_type": "markdown",
   "id": "a2087b67",
   "metadata": {},
   "source": [
    "### Manhattan Distance"
   ]
  },
  {
   "cell_type": "code",
   "execution_count": 13,
   "id": "496e3c16",
   "metadata": {},
   "outputs": [],
   "source": [
    "test_manhattan = manhattan_distances(tfidf_matrix, test)\n",
    "recommend_manhattan = sorted(range(len(test_manhattan)), key = lambda sub: test_manhattan[sub])[:5]"
   ]
  },
  {
   "cell_type": "code",
   "execution_count": 14,
   "id": "200cc2c1",
   "metadata": {},
   "outputs": [
    {
     "name": "stdout",
     "output_type": "stream",
     "text": [
      "url                  https://panlasangpinoy.com/filipino-food-fried...\n",
      "food                                              Fried Tilapia Recipe\n",
      "course                                                            none\n",
      "ingredients          2 pieces tilapia cleaned and scales removed, 2...\n",
      "instructions         Rub salt all over the fish including the insid...\n",
      "ingredients_clean                                              tilapia\n",
      "ingredients_token                                          ['tilapia']\n",
      "Name: 315, dtype: object\n",
      "---------------------------------------\n",
      "url                      https://www.kawalingpinoy.com/tortang-talong/\n",
      "food                                                    Tortang Talong\n",
      "course                                                       Side Dish\n",
      "ingredients          4 eggplants, 4 eggs, salt and pepper to taste....\n",
      "instructions         With a knife or fork, prick eggplant. Arrange ...\n",
      "ingredients_clean                                         eggplant egg\n",
      "ingredients_token                                  ['eggplant', 'egg']\n",
      "Name: 2161, dtype: object\n",
      "---------------------------------------\n",
      "url                  https://panlasangpinoy.com/crispy-adobo-flakes...\n",
      "food                                        Crispy Adobo Flakes Recipe\n",
      "course                                                            none\n",
      "ingredients           1 lb pork adobo cooked, 1/2 to 1 cup cooking oil\n",
      "instructions         Shred the pork adobo slices along the grain.\\n...\n",
      "ingredients_clean                                           pork adobo\n",
      "ingredients_token                                    ['pork', 'adobo']\n",
      "Name: 1463, dtype: object\n",
      "---------------------------------------\n",
      "url                       https://panlasangpinoy.com/fried-fish-adobo/\n",
      "food                                                  Fried Fish Adobo\n",
      "course                                                            none\n",
      "ingredients          2 lbs. Fish Adobo click here for recipe, 3/4 c...\n",
      "instructions         Drain the liquid from the fish adobo.\\nHeat a ...\n",
      "ingredients_clean                                           fish adobo\n",
      "ingredients_token                                    ['fish', 'adobo']\n",
      "Name: 1084, dtype: object\n",
      "---------------------------------------\n",
      "url                  https://panlasangpinoy.com/hoisin-glazed-grill...\n",
      "food                                        Hoisin Glazed Grilled Tofu\n",
      "course                                                            none\n",
      "ingredients          14 oz. extra firm tofu sliced into 1/2 inch th...\n",
      "instructions         Combine hoisin sauce, salt, and pepper. Mix we...\n",
      "ingredients_clean                                    tofu hoisin sauce\n",
      "ingredients_token                          ['tofu', 'hoisin', 'sauce']\n",
      "Name: 1205, dtype: object\n",
      "---------------------------------------\n"
     ]
    }
   ],
   "source": [
    "for i in recommend_manhattan:\n",
    "    print(data.iloc[i])\n",
    "    print(\"---------------------------------------\")"
   ]
  },
  {
   "cell_type": "markdown",
   "id": "2237a31d",
   "metadata": {},
   "source": [
    "### Euclidean Distance"
   ]
  },
  {
   "cell_type": "code",
   "execution_count": 11,
   "id": "cc873d0a",
   "metadata": {},
   "outputs": [],
   "source": [
    "test_euclid = euclidean_distances(tfidf_matrix, test)\n",
    "recommend_euclid = sorted(range(len(test_euclid)), key = lambda sub: test_euclid[sub])[:5]"
   ]
  },
  {
   "cell_type": "code",
   "execution_count": 12,
   "id": "ec83fd6d",
   "metadata": {},
   "outputs": [
    {
     "name": "stdout",
     "output_type": "stream",
     "text": [
      "url                  https://panlasangpinoy.com/tochong-bangus-recipe/\n",
      "food                                                    Tochong Bangus\n",
      "course                                                     Main Course\n",
      "ingredients          1 bangus cleaned and sliced diagonally into pi...\n",
      "instructions         Rub salt all over the fish. Let it stay for 10...\n",
      "ingredients_clean    bangus tofu tahure ferment bean curd mash taus...\n",
      "ingredients_token    ['bangus', 'tofu', 'tahure', 'ferment', 'bean'...\n",
      "Name: 71, dtype: object\n",
      "---------------------------------------\n",
      "url                      https://www.kawalingpinoy.com/totsong-bangus/\n",
      "food                                                    Totsong Bangus\n",
      "course                                                            none\n",
      "ingredients          1 whole bangus, scaled, gutted and cut into se...\n",
      "instructions         Rinse fish and drain well. Season with salt an...\n",
      "ingredients_clean    bangus canola tofu onion garlic ginger rom tom...\n",
      "ingredients_token    ['bangus', 'canola', 'tofu', 'onion', 'garlic'...\n",
      "Name: 2117, dtype: object\n",
      "---------------------------------------\n",
      "url                  https://www.kawalingpinoy.com/tokwat-baboy-tausi/\n",
      "food                                          Tokwa’t Baboy with Tausi\n",
      "course                                                     Main Entree\n",
      "ingredients          2 pounds pork belly, cut into 2-inch cubes, 1 ...\n",
      "instructions         Remove tofu from packaging and drain from pack...\n",
      "ingredients_clean    pork belly cub vinegar bay leaf canola tofu on...\n",
      "ingredients_token    ['pork', 'belly', 'cub', 'vinegar', 'bay', 'le...\n",
      "Name: 1740, dtype: object\n",
      "---------------------------------------\n",
      "url                    https://panlasangpinoy.com/fried-bangus-recipe/\n",
      "food                              Fried Bangus Recipe (Fried Milkfish)\n",
      "course                                                            none\n",
      "ingredients          1 large boneless bangus milkfish; scales remov...\n",
      "instructions         Combine vinegar, garlic, whole peppercorn, and...\n",
      "ingredients_clean    bangus milkfish butterflied white vinegar garl...\n",
      "ingredients_token    ['bangus', 'milkfish', 'butterflied', 'white',...\n",
      "Name: 1387, dtype: object\n",
      "---------------------------------------\n",
      "url                  https://panlasangpinoy.com/hoisin-glazed-grill...\n",
      "food                                        Hoisin Glazed Grilled Tofu\n",
      "course                                                            none\n",
      "ingredients          14 oz. extra firm tofu sliced into 1/2 inch th...\n",
      "instructions         Combine hoisin sauce, salt, and pepper. Mix we...\n",
      "ingredients_clean                                    tofu hoisin sauce\n",
      "ingredients_token                          ['tofu', 'hoisin', 'sauce']\n",
      "Name: 1205, dtype: object\n",
      "---------------------------------------\n"
     ]
    }
   ],
   "source": [
    "for i in recommend_euclid:\n",
    "    print(data.iloc[i])\n",
    "    print(\"---------------------------------------\")"
   ]
  },
  {
   "cell_type": "code",
   "execution_count": null,
   "id": "16249f3b",
   "metadata": {},
   "outputs": [],
   "source": []
  }
 ],
 "metadata": {
  "kernelspec": {
   "display_name": "Python 3 (ipykernel)",
   "language": "python",
   "name": "python3"
  },
  "language_info": {
   "codemirror_mode": {
    "name": "ipython",
    "version": 3
   },
   "file_extension": ".py",
   "mimetype": "text/x-python",
   "name": "python",
   "nbconvert_exporter": "python",
   "pygments_lexer": "ipython3",
   "version": "3.9.12"
  }
 },
 "nbformat": 4,
 "nbformat_minor": 5
}
