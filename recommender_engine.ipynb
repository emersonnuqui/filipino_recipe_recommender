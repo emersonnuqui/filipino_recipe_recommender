{
 "cells": [
  {
   "cell_type": "code",
   "execution_count": 1,
   "id": "665e63f1",
   "metadata": {},
   "outputs": [
    {
     "name": "stderr",
     "output_type": "stream",
     "text": [
      "<frozen importlib._bootstrap>:228: RuntimeWarning: scipy._lib.messagestream.MessageStream size changed, may indicate binary incompatibility. Expected 56 from C header, got 64 from PyObject\n"
     ]
    }
   ],
   "source": [
    "import pandas as pd\n",
    "import numpy as np\n",
    "\n",
    "from sklearn.feature_extraction.text import TfidfVectorizer\n",
    "from sklearn.metrics.pairwise import cosine_similarity, manhattan_distances, euclidean_distances"
   ]
  },
  {
   "cell_type": "code",
   "execution_count": 2,
   "id": "978a6597",
   "metadata": {},
   "outputs": [],
   "source": [
    "data = pd.read_csv(\"data/filipino_recipe_clean.csv\")"
   ]
  },
  {
   "cell_type": "code",
   "execution_count": 3,
   "id": "0023c4d4",
   "metadata": {},
   "outputs": [],
   "source": [
    "tf = TfidfVectorizer(analyzer='word', ngram_range=(1, 3), min_df=0, stop_words='english')\n",
    "tfidf_matrix = tf.fit_transform(data['ingredients_clean'])"
   ]
  },
  {
   "cell_type": "code",
   "execution_count": 4,
   "id": "11304bda",
   "metadata": {},
   "outputs": [],
   "source": [
    "test = tf.transform(['tofu, tahure, tomato, tausi, vinegar, bangus'])"
   ]
  },
  {
   "cell_type": "markdown",
   "id": "7041d617",
   "metadata": {},
   "source": [
    "### Cosine Similarity"
   ]
  },
  {
   "cell_type": "markdown",
   "id": "d351ca7d",
   "metadata": {},
   "source": [
    "- cosine similarity recommendations makes more sense compared to two similarity metrics"
   ]
  },
  {
   "cell_type": "code",
   "execution_count": 5,
   "id": "0034b007",
   "metadata": {},
   "outputs": [],
   "source": [
    "test_cosine = cosine_similarity(tfidf_matrix, test)\n",
    "recommend_cosine = sorted(range(len(test_cosine)), key = lambda sub: test_cosine[sub])[-5:]"
   ]
  },
  {
   "cell_type": "code",
   "execution_count": 6,
   "id": "7341cb20",
   "metadata": {},
   "outputs": [
    {
     "name": "stdout",
     "output_type": "stream",
     "text": [
      "url                  https://panlasangpinoy.com/hoisin-glazed-grill...\n",
      "food                                        Hoisin Glazed Grilled Tofu\n",
      "course                                                            none\n",
      "ingredients          14 oz. extra firm tofu sliced into 1/2 inch th...\n",
      "instructions         Combine hoisin sauce, salt, and pepper. Mix we...\n",
      "ingredients_clean                                    tofu hoisin sauce\n",
      "ingredients_token                          ['tofu', 'hoisin', 'sauce']\n",
      "Name: 1205, dtype: object\n",
      "---------------------------------------\n",
      "url                    https://panlasangpinoy.com/fried-bangus-recipe/\n",
      "food                              Fried Bangus Recipe (Fried Milkfish)\n",
      "course                                                            none\n",
      "ingredients          1 large boneless bangus milkfish; scales remov...\n",
      "instructions         Combine vinegar, garlic, whole peppercorn, and...\n",
      "ingredients_clean    bangus milkfish butterflied white vinegar garl...\n",
      "ingredients_token    ['bangus', 'milkfish', 'butterflied', 'white',...\n",
      "Name: 1387, dtype: object\n",
      "---------------------------------------\n",
      "url                  https://www.kawalingpinoy.com/tokwat-baboy-tausi/\n",
      "food                                          Tokwa’t Baboy with Tausi\n",
      "course                                                     Main Entree\n",
      "ingredients          2 pounds pork belly, cut into 2-inch cubes, 1 ...\n",
      "instructions         Remove tofu from packaging and drain from pack...\n",
      "ingredients_clean    pork belly cub vinegar bay leaf canola tofu on...\n",
      "ingredients_token    ['pork', 'belly', 'cub', 'vinegar', 'bay', 'le...\n",
      "Name: 1740, dtype: object\n",
      "---------------------------------------\n",
      "url                      https://www.kawalingpinoy.com/totsong-bangus/\n",
      "food                                                    Totsong Bangus\n",
      "course                                                            none\n",
      "ingredients          1 whole bangus, scaled, gutted and cut into se...\n",
      "instructions         Rinse fish and drain well. Season with salt an...\n",
      "ingredients_clean    bangus canola tofu onion garlic ginger rom tom...\n",
      "ingredients_token    ['bangus', 'canola', 'tofu', 'onion', 'garlic'...\n",
      "Name: 2117, dtype: object\n",
      "---------------------------------------\n",
      "url                  https://panlasangpinoy.com/tochong-bangus-recipe/\n",
      "food                                                    Tochong Bangus\n",
      "course                                                     Main Course\n",
      "ingredients          1 bangus cleaned and sliced diagonally into pi...\n",
      "instructions         Rub salt all over the fish. Let it stay for 10...\n",
      "ingredients_clean    bangus tofu tahure ferment bean curd mash taus...\n",
      "ingredients_token    ['bangus', 'tofu', 'tahure', 'ferment', 'bean'...\n",
      "Name: 71, dtype: object\n",
      "---------------------------------------\n"
     ]
    }
   ],
   "source": [
    "for i in recommend_cosine:\n",
    "    print(data.iloc[i])\n",
    "    print(\"---------------------------------------\")"
   ]
  },
  {
   "cell_type": "markdown",
   "id": "a2087b67",
   "metadata": {},
   "source": [
    "### Manhattan Distance"
   ]
  },
  {
   "cell_type": "code",
   "execution_count": 13,
   "id": "496e3c16",
   "metadata": {},
   "outputs": [],
   "source": [
    "test_manhattan = manhattan_distances(tfidf_matrix, test)\n",
    "recommend_manhattan = sorted(range(len(test_manhattan)), key = lambda sub: test_manhattan[sub])[:5]"
   ]
  },
  {
   "cell_type": "code",
   "execution_count": 14,
   "id": "200cc2c1",
   "metadata": {},
   "outputs": [
    {
     "name": "stdout",
     "output_type": "stream",
     "text": [
      "url                  https://panlasangpinoy.com/filipino-food-fried...\n",
      "food                                              Fried Tilapia Recipe\n",
      "course                                                            none\n",
      "ingredients          2 pieces tilapia cleaned and scales removed, 2...\n",
      "instructions         Rub salt all over the fish including the insid...\n",
      "ingredients_clean                                              tilapia\n",
      "ingredients_token                                          ['tilapia']\n",
      "Name: 315, dtype: object\n",
      "---------------------------------------\n",
      "url                      https://www.kawalingpinoy.com/tortang-talong/\n",
      "food                                                    Tortang Talong\n",
      "course                                                       Side Dish\n",
      "ingredients          4 eggplants, 4 eggs, salt and pepper to taste....\n",
      "instructions         With a knife or fork, prick eggplant. Arrange ...\n",
      "ingredients_clean                                         eggplant egg\n",
      "ingredients_token                                  ['eggplant', 'egg']\n",
      "Name: 2161, dtype: object\n",
      "---------------------------------------\n",
      "url                  https://panlasangpinoy.com/crispy-adobo-flakes...\n",
      "food                                        Crispy Adobo Flakes Recipe\n",
      "course                                                            none\n",
      "ingredients           1 lb pork adobo cooked, 1/2 to 1 cup cooking oil\n",
      "instructions         Shred the pork adobo slices along the grain.\\n...\n",
      "ingredients_clean                                           pork adobo\n",
      "ingredients_token                                    ['pork', 'adobo']\n",
      "Name: 1463, dtype: object\n",
      "---------------------------------------\n",
      "url                       https://panlasangpinoy.com/fried-fish-adobo/\n",
      "food                                                  Fried Fish Adobo\n",
      "course                                                            none\n",
      "ingredients          2 lbs. Fish Adobo click here for recipe, 3/4 c...\n",
      "instructions         Drain the liquid from the fish adobo.\\nHeat a ...\n",
      "ingredients_clean                                           fish adobo\n",
      "ingredients_token                                    ['fish', 'adobo']\n",
      "Name: 1084, dtype: object\n",
      "---------------------------------------\n",
      "url                  https://panlasangpinoy.com/hoisin-glazed-grill...\n",
      "food                                        Hoisin Glazed Grilled Tofu\n",
      "course                                                            none\n",
      "ingredients          14 oz. extra firm tofu sliced into 1/2 inch th...\n",
      "instructions         Combine hoisin sauce, salt, and pepper. Mix we...\n",
      "ingredients_clean                                    tofu hoisin sauce\n",
      "ingredients_token                          ['tofu', 'hoisin', 'sauce']\n",
      "Name: 1205, dtype: object\n",
      "---------------------------------------\n"
     ]
    }
   ],
   "source": [
    "for i in recommend_manhattan:\n",
    "    print(data.iloc[i])\n",
    "    print(\"---------------------------------------\")"
   ]
  },
  {
   "cell_type": "markdown",
   "id": "2237a31d",
   "metadata": {},
   "source": [
    "### Euclidean Distance"
   ]
  },
  {
   "cell_type": "code",
   "execution_count": 11,
   "id": "cc873d0a",
   "metadata": {},
   "outputs": [],
   "source": [
    "test_euclid = euclidean_distances(tfidf_matrix, test)\n",
    "recommend_euclid = sorted(range(len(test_euclid)), key = lambda sub: test_euclid[sub])[:5]"
   ]
  },
  {
   "cell_type": "code",
   "execution_count": 12,
   "id": "ec83fd6d",
   "metadata": {},
   "outputs": [
    {
     "name": "stdout",
     "output_type": "stream",
     "text": [
      "url                  https://panlasangpinoy.com/tochong-bangus-recipe/\n",
      "food                                                    Tochong Bangus\n",
      "course                                                     Main Course\n",
      "ingredients          1 bangus cleaned and sliced diagonally into pi...\n",
      "instructions         Rub salt all over the fish. Let it stay for 10...\n",
      "ingredients_clean    bangus tofu tahure ferment bean curd mash taus...\n",
      "ingredients_token    ['bangus', 'tofu', 'tahure', 'ferment', 'bean'...\n",
      "Name: 71, dtype: object\n",
      "---------------------------------------\n",
      "url                      https://www.kawalingpinoy.com/totsong-bangus/\n",
      "food                                                    Totsong Bangus\n",
      "course                                                            none\n",
      "ingredients          1 whole bangus, scaled, gutted and cut into se...\n",
      "instructions         Rinse fish and drain well. Season with salt an...\n",
      "ingredients_clean    bangus canola tofu onion garlic ginger rom tom...\n",
      "ingredients_token    ['bangus', 'canola', 'tofu', 'onion', 'garlic'...\n",
      "Name: 2117, dtype: object\n",
      "---------------------------------------\n",
      "url                  https://www.kawalingpinoy.com/tokwat-baboy-tausi/\n",
      "food                                          Tokwa’t Baboy with Tausi\n",
      "course                                                     Main Entree\n",
      "ingredients          2 pounds pork belly, cut into 2-inch cubes, 1 ...\n",
      "instructions         Remove tofu from packaging and drain from pack...\n",
      "ingredients_clean    pork belly cub vinegar bay leaf canola tofu on...\n",
      "ingredients_token    ['pork', 'belly', 'cub', 'vinegar', 'bay', 'le...\n",
      "Name: 1740, dtype: object\n",
      "---------------------------------------\n",
      "url                    https://panlasangpinoy.com/fried-bangus-recipe/\n",
      "food                              Fried Bangus Recipe (Fried Milkfish)\n",
      "course                                                            none\n",
      "ingredients          1 large boneless bangus milkfish; scales remov...\n",
      "instructions         Combine vinegar, garlic, whole peppercorn, and...\n",
      "ingredients_clean    bangus milkfish butterflied white vinegar garl...\n",
      "ingredients_token    ['bangus', 'milkfish', 'butterflied', 'white',...\n",
      "Name: 1387, dtype: object\n",
      "---------------------------------------\n",
      "url                  https://panlasangpinoy.com/hoisin-glazed-grill...\n",
      "food                                        Hoisin Glazed Grilled Tofu\n",
      "course                                                            none\n",
      "ingredients          14 oz. extra firm tofu sliced into 1/2 inch th...\n",
      "instructions         Combine hoisin sauce, salt, and pepper. Mix we...\n",
      "ingredients_clean                                    tofu hoisin sauce\n",
      "ingredients_token                          ['tofu', 'hoisin', 'sauce']\n",
      "Name: 1205, dtype: object\n",
      "---------------------------------------\n"
     ]
    }
   ],
   "source": [
    "for i in recommend_euclid:\n",
    "    print(data.iloc[i])\n",
    "    print(\"---------------------------------------\")"
   ]
  },
  {
   "cell_type": "code",
   "execution_count": null,
   "id": "16249f3b",
   "metadata": {},
   "outputs": [],
   "source": []
  }
 ],
 "metadata": {
  "kernelspec": {
   "display_name": "Python 3 (ipykernel)",
   "language": "python",
   "name": "python3"
  },
  "language_info": {
   "codemirror_mode": {
    "name": "ipython",
    "version": 3
   },
   "file_extension": ".py",
   "mimetype": "text/x-python",
   "name": "python",
   "nbconvert_exporter": "python",
   "pygments_lexer": "ipython3",
   "version": "3.9.12"
  }
 },
 "nbformat": 4,
 "nbformat_minor": 5
}
