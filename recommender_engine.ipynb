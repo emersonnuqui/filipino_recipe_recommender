{
 "cells": [
  {
   "cell_type": "code",
   "execution_count": 48,
   "id": "b1865e8e",
   "metadata": {},
   "outputs": [
    {
     "name": "stdout",
     "output_type": "stream",
     "text": [
      "Collecting googletrans==4.0.0-rc1\n",
      "  Downloading googletrans-4.0.0rc1.tar.gz (20 kB)\n",
      "  Preparing metadata (setup.py): started\n",
      "  Preparing metadata (setup.py): finished with status 'done'\n",
      "Requirement already satisfied: httpx==0.13.3 in c:\\users\\user2\\anaconda3\\lib\\site-packages (from googletrans==4.0.0-rc1) (0.13.3)\n",
      "Requirement already satisfied: certifi in c:\\users\\user2\\anaconda3\\lib\\site-packages (from httpx==0.13.3->googletrans==4.0.0-rc1) (2022.9.14)\n",
      "Requirement already satisfied: httpcore==0.9.* in c:\\users\\user2\\anaconda3\\lib\\site-packages (from httpx==0.13.3->googletrans==4.0.0-rc1) (0.9.1)\n",
      "Requirement already satisfied: rfc3986<2,>=1.3 in c:\\users\\user2\\anaconda3\\lib\\site-packages (from httpx==0.13.3->googletrans==4.0.0-rc1) (1.5.0)\n",
      "Requirement already satisfied: idna==2.* in c:\\users\\user2\\anaconda3\\lib\\site-packages (from httpx==0.13.3->googletrans==4.0.0-rc1) (2.10)\n",
      "Requirement already satisfied: sniffio in c:\\users\\user2\\anaconda3\\lib\\site-packages (from httpx==0.13.3->googletrans==4.0.0-rc1) (1.2.0)\n",
      "Requirement already satisfied: chardet==3.* in c:\\users\\user2\\anaconda3\\lib\\site-packages (from httpx==0.13.3->googletrans==4.0.0-rc1) (3.0.4)\n",
      "Requirement already satisfied: hstspreload in c:\\users\\user2\\anaconda3\\lib\\site-packages (from httpx==0.13.3->googletrans==4.0.0-rc1) (2023.1.1)\n",
      "Requirement already satisfied: h11<0.10,>=0.8 in c:\\users\\user2\\anaconda3\\lib\\site-packages (from httpcore==0.9.*->httpx==0.13.3->googletrans==4.0.0-rc1) (0.9.0)\n",
      "Requirement already satisfied: h2==3.* in c:\\users\\user2\\anaconda3\\lib\\site-packages (from httpcore==0.9.*->httpx==0.13.3->googletrans==4.0.0-rc1) (3.2.0)\n",
      "Requirement already satisfied: hyperframe<6,>=5.2.0 in c:\\users\\user2\\anaconda3\\lib\\site-packages (from h2==3.*->httpcore==0.9.*->httpx==0.13.3->googletrans==4.0.0-rc1) (5.2.0)\n",
      "Requirement already satisfied: hpack<4,>=3.0 in c:\\users\\user2\\anaconda3\\lib\\site-packages (from h2==3.*->httpcore==0.9.*->httpx==0.13.3->googletrans==4.0.0-rc1) (3.0.0)\n",
      "Building wheels for collected packages: googletrans\n",
      "  Building wheel for googletrans (setup.py): started\n",
      "  Building wheel for googletrans (setup.py): finished with status 'done'\n",
      "  Created wheel for googletrans: filename=googletrans-4.0.0rc1-py3-none-any.whl size=17411 sha256=c6229ce853480a569220d551037454048173ff5f3ec8071e2abb56a0b75928ac\n",
      "  Stored in directory: c:\\users\\user2\\appdata\\local\\pip\\cache\\wheels\\60\\b3\\27\\d8aff3e2d5c2d0d97a117cdf0d5f13cd121e2c2b5fb49b55a0\n",
      "Successfully built googletrans\n",
      "Installing collected packages: googletrans\n",
      "  Attempting uninstall: googletrans\n",
      "    Found existing installation: googletrans 3.0.0\n",
      "    Uninstalling googletrans-3.0.0:\n",
      "      Successfully uninstalled googletrans-3.0.0\n",
      "Successfully installed googletrans-4.0.0rc1\n"
     ]
    }
   ],
   "source": [
    "!pip install googletrans==4.0.0-rc1"
   ]
  },
  {
   "cell_type": "code",
   "execution_count": 49,
   "id": "665e63f1",
   "metadata": {},
   "outputs": [],
   "source": [
    "import pandas as pd\n",
    "import numpy as np\n",
    "from googletrans import Translator\n",
    "\n",
    "from sklearn.feature_extraction.text import TfidfVectorizer\n",
    "from sklearn.metrics.pairwise import cosine_similarity, manhattan_distances, euclidean_distances"
   ]
  },
  {
   "cell_type": "code",
   "execution_count": 50,
   "id": "978a6597",
   "metadata": {},
   "outputs": [],
   "source": [
    "data = pd.read_csv(\"data/filipino_recipe_clean.csv\")"
   ]
  },
  {
   "cell_type": "code",
   "execution_count": 51,
   "id": "0023c4d4",
   "metadata": {},
   "outputs": [],
   "source": [
    "tf = TfidfVectorizer(analyzer='word', ngram_range=(1, 3), min_df=0, stop_words='english')\n",
    "tfidf_matrix = tf.fit_transform(data['ingredients_clean'])"
   ]
  },
  {
   "cell_type": "code",
   "execution_count": 52,
   "id": "11304bda",
   "metadata": {},
   "outputs": [
    {
     "ename": "AttributeError",
     "evalue": "'NoneType' object has no attribute 'group'",
     "output_type": "error",
     "traceback": [
      "\u001b[1;31m---------------------------------------------------------------------------\u001b[0m",
      "\u001b[1;31mAttributeError\u001b[0m                            Traceback (most recent call last)",
      "Cell \u001b[1;32mIn[52], line 3\u001b[0m\n\u001b[0;32m      1\u001b[0m translator \u001b[38;5;241m=\u001b[39m Translator()\n\u001b[0;32m      2\u001b[0m text \u001b[38;5;241m=\u001b[39m \u001b[38;5;124m\"\u001b[39m\u001b[38;5;124mbangus, milkfish, garlic, oil\u001b[39m\u001b[38;5;124m\"\u001b[39m\n\u001b[1;32m----> 3\u001b[0m text \u001b[38;5;241m=\u001b[39m \u001b[43mtranslator\u001b[49m\u001b[38;5;241;43m.\u001b[39;49m\u001b[43mtranslate\u001b[49m\u001b[43m(\u001b[49m\u001b[38;5;124;43m'\u001b[39;49m\u001b[38;5;124;43mbangus\u001b[39;49m\u001b[38;5;124;43m'\u001b[39;49m\u001b[43m)\u001b[49m\u001b[38;5;241m.\u001b[39mtext\n\u001b[0;32m      4\u001b[0m test \u001b[38;5;241m=\u001b[39m tf\u001b[38;5;241m.\u001b[39mtransform([])\n",
      "File \u001b[1;32m~\\anaconda3\\lib\\site-packages\\googletrans\\client.py:182\u001b[0m, in \u001b[0;36mTranslator.translate\u001b[1;34m(self, text, dest, src, **kwargs)\u001b[0m\n\u001b[0;32m    179\u001b[0m     \u001b[38;5;28;01mreturn\u001b[39;00m result\n\u001b[0;32m    181\u001b[0m origin \u001b[38;5;241m=\u001b[39m text\n\u001b[1;32m--> 182\u001b[0m data \u001b[38;5;241m=\u001b[39m \u001b[38;5;28;43mself\u001b[39;49m\u001b[38;5;241;43m.\u001b[39;49m\u001b[43m_translate\u001b[49m\u001b[43m(\u001b[49m\u001b[43mtext\u001b[49m\u001b[43m,\u001b[49m\u001b[43m \u001b[49m\u001b[43mdest\u001b[49m\u001b[43m,\u001b[49m\u001b[43m \u001b[49m\u001b[43msrc\u001b[49m\u001b[43m,\u001b[49m\u001b[43m \u001b[49m\u001b[43mkwargs\u001b[49m\u001b[43m)\u001b[49m\n\u001b[0;32m    184\u001b[0m \u001b[38;5;66;03m# this code will be updated when the format is changed.\u001b[39;00m\n\u001b[0;32m    185\u001b[0m translated \u001b[38;5;241m=\u001b[39m \u001b[38;5;124m'\u001b[39m\u001b[38;5;124m'\u001b[39m\u001b[38;5;241m.\u001b[39mjoin([d[\u001b[38;5;241m0\u001b[39m] \u001b[38;5;28;01mif\u001b[39;00m d[\u001b[38;5;241m0\u001b[39m] \u001b[38;5;28;01melse\u001b[39;00m \u001b[38;5;124m'\u001b[39m\u001b[38;5;124m'\u001b[39m \u001b[38;5;28;01mfor\u001b[39;00m d \u001b[38;5;129;01min\u001b[39;00m data[\u001b[38;5;241m0\u001b[39m]])\n",
      "File \u001b[1;32m~\\anaconda3\\lib\\site-packages\\googletrans\\client.py:78\u001b[0m, in \u001b[0;36mTranslator._translate\u001b[1;34m(self, text, dest, src, override)\u001b[0m\n\u001b[0;32m     77\u001b[0m \u001b[38;5;28;01mdef\u001b[39;00m \u001b[38;5;21m_translate\u001b[39m(\u001b[38;5;28mself\u001b[39m, text, dest, src, override):\n\u001b[1;32m---> 78\u001b[0m     token \u001b[38;5;241m=\u001b[39m \u001b[38;5;28;43mself\u001b[39;49m\u001b[38;5;241;43m.\u001b[39;49m\u001b[43mtoken_acquirer\u001b[49m\u001b[38;5;241;43m.\u001b[39;49m\u001b[43mdo\u001b[49m\u001b[43m(\u001b[49m\u001b[43mtext\u001b[49m\u001b[43m)\u001b[49m\n\u001b[0;32m     79\u001b[0m     params \u001b[38;5;241m=\u001b[39m utils\u001b[38;5;241m.\u001b[39mbuild_params(query\u001b[38;5;241m=\u001b[39mtext, src\u001b[38;5;241m=\u001b[39msrc, dest\u001b[38;5;241m=\u001b[39mdest,\n\u001b[0;32m     80\u001b[0m                                 token\u001b[38;5;241m=\u001b[39mtoken, override\u001b[38;5;241m=\u001b[39moverride)\n\u001b[0;32m     82\u001b[0m     url \u001b[38;5;241m=\u001b[39m urls\u001b[38;5;241m.\u001b[39mTRANSLATE\u001b[38;5;241m.\u001b[39mformat(host\u001b[38;5;241m=\u001b[39m\u001b[38;5;28mself\u001b[39m\u001b[38;5;241m.\u001b[39m_pick_service_url())\n",
      "File \u001b[1;32m~\\anaconda3\\lib\\site-packages\\googletrans\\gtoken.py:194\u001b[0m, in \u001b[0;36mTokenAcquirer.do\u001b[1;34m(self, text)\u001b[0m\n\u001b[0;32m    193\u001b[0m \u001b[38;5;28;01mdef\u001b[39;00m \u001b[38;5;21mdo\u001b[39m(\u001b[38;5;28mself\u001b[39m, text):\n\u001b[1;32m--> 194\u001b[0m     \u001b[38;5;28;43mself\u001b[39;49m\u001b[38;5;241;43m.\u001b[39;49m\u001b[43m_update\u001b[49m\u001b[43m(\u001b[49m\u001b[43m)\u001b[49m\n\u001b[0;32m    195\u001b[0m     tk \u001b[38;5;241m=\u001b[39m \u001b[38;5;28mself\u001b[39m\u001b[38;5;241m.\u001b[39macquire(text)\n\u001b[0;32m    196\u001b[0m     \u001b[38;5;28;01mreturn\u001b[39;00m tk\n",
      "File \u001b[1;32m~\\anaconda3\\lib\\site-packages\\googletrans\\gtoken.py:62\u001b[0m, in \u001b[0;36mTokenAcquirer._update\u001b[1;34m(self)\u001b[0m\n\u001b[0;32m     59\u001b[0m     \u001b[38;5;28;01mreturn\u001b[39;00m\n\u001b[0;32m     61\u001b[0m \u001b[38;5;66;03m# this will be the same as python code after stripping out a reserved word 'var'\u001b[39;00m\n\u001b[1;32m---> 62\u001b[0m code \u001b[38;5;241m=\u001b[39m \u001b[38;5;28;43mself\u001b[39;49m\u001b[38;5;241;43m.\u001b[39;49m\u001b[43mRE_TKK\u001b[49m\u001b[38;5;241;43m.\u001b[39;49m\u001b[43msearch\u001b[49m\u001b[43m(\u001b[49m\u001b[43mr\u001b[49m\u001b[38;5;241;43m.\u001b[39;49m\u001b[43mtext\u001b[49m\u001b[43m)\u001b[49m\u001b[38;5;241;43m.\u001b[39;49m\u001b[43mgroup\u001b[49m(\u001b[38;5;241m1\u001b[39m)\u001b[38;5;241m.\u001b[39mreplace(\u001b[38;5;124m'\u001b[39m\u001b[38;5;124mvar \u001b[39m\u001b[38;5;124m'\u001b[39m, \u001b[38;5;124m'\u001b[39m\u001b[38;5;124m'\u001b[39m)\n\u001b[0;32m     63\u001b[0m \u001b[38;5;66;03m# unescape special ascii characters such like a \\x3d(=)\u001b[39;00m\n\u001b[0;32m     64\u001b[0m code \u001b[38;5;241m=\u001b[39m code\u001b[38;5;241m.\u001b[39mencode()\u001b[38;5;241m.\u001b[39mdecode(\u001b[38;5;124m'\u001b[39m\u001b[38;5;124municode-escape\u001b[39m\u001b[38;5;124m'\u001b[39m)\n",
      "\u001b[1;31mAttributeError\u001b[0m: 'NoneType' object has no attribute 'group'"
     ]
    }
   ],
   "source": [
    "translator = Translator()\n",
    "text = \"bangus, milkfish, garlic, oil\"\n",
    "text = translator.translate('bangus').text\n",
    "test = tf.transform([])"
   ]
  },
  {
   "cell_type": "markdown",
   "id": "7041d617",
   "metadata": {},
   "source": [
    "### Cosine Similarity"
   ]
  },
  {
   "cell_type": "markdown",
   "id": "d351ca7d",
   "metadata": {},
   "source": [
    "- cosine similarity recommendations makes more sense compared to two similarity metrics"
   ]
  },
  {
   "cell_type": "code",
   "execution_count": 27,
   "id": "0034b007",
   "metadata": {},
   "outputs": [],
   "source": [
    "test_cosine = cosine_similarity(tfidf_matrix, test)\n",
    "recommend_cosine = sorted(range(len(test_cosine)), key = lambda sub: test_cosine[sub])[-5:]"
   ]
  },
  {
   "cell_type": "code",
   "execution_count": 28,
   "id": "7341cb20",
   "metadata": {},
   "outputs": [
    {
     "name": "stdout",
     "output_type": "stream",
     "text": [
      "url                    https://www.kawalingpinoy.com/relyenong-bangus/\n",
      "food                                                  Relyenong Bangus\n",
      "course                                                            none\n",
      "ingredients          1 large whole bangus milkfish, juice of 1 lemo...\n",
      "instructions         Scale fish and remove innards, leaving belly i...\n",
      "ingredients_clean    bangus milkfish juice lemon soy sauce onion ga...\n",
      "ingredients_token    ['bangus', 'milkfish', 'juice', 'lemon', 'soy'...\n",
      "Name: 2159, dtype: object\n",
      "---------------------------------------\n",
      "url                  https://panlasangpinoy.com/tinolang-bangus-rec...\n",
      "food                                            Tinolang Bangus Recipe\n",
      "course                                                            none\n",
      "ingredients          1 large bangus milkfish, scales and innards re...\n",
      "instructions         Heat the oil in a cooking pot.\\r\\nSaute the on...\n",
      "ingredients_clean    bangus milkfish innards malunggay hot chayote ...\n",
      "ingredients_token    ['bangus', 'milkfish', 'innards', 'malunggay',...\n",
      "Name: 996, dtype: object\n",
      "---------------------------------------\n",
      "url                  https://panlasangpinoy.com/shared-recipe-genes...\n",
      "food                 Genesee's Grilled Boneless Bangus in Pandan Le...\n",
      "course                                                   Shared Recipe\n",
      "ingredients          1 medium sized boneless bangus milkfish, 2 fre...\n",
      "instructions         Wash the deboned fish and season with a little...\n",
      "ingredients_clean    bangus milkfish tomato dice onion dice pandan ...\n",
      "ingredients_token    ['bangus', 'milkfish', 'tomato', 'dice', 'onio...\n",
      "Name: 1496, dtype: object\n",
      "---------------------------------------\n",
      "url                  https://panlasangpinoy.com/air-fryer-bangus-sa...\n",
      "food                                                   Bangus Salpicao\n",
      "course                                                       Main Dish\n",
      "ingredients          1 piece boneless milkfish, 4 teaspoons garlic ...\n",
      "instructions         Slice the boneless bangus into serving pieces....\n",
      "ingredients_clean    milkfish garlic virgin olive worcestershire sa...\n",
      "ingredients_token    ['milkfish', 'garlic', 'virgin', 'olive', 'wor...\n",
      "Name: 322, dtype: object\n",
      "---------------------------------------\n",
      "url                    https://panlasangpinoy.com/fried-bangus-recipe/\n",
      "food                              Fried Bangus Recipe (Fried Milkfish)\n",
      "course                                                            none\n",
      "ingredients          1 large boneless bangus milkfish; scales remov...\n",
      "instructions         Combine vinegar, garlic, whole peppercorn, and...\n",
      "ingredients_clean    bangus milkfish butterflied white vinegar garl...\n",
      "ingredients_token    ['bangus', 'milkfish', 'butterflied', 'white',...\n",
      "Name: 1387, dtype: object\n",
      "---------------------------------------\n"
     ]
    }
   ],
   "source": [
    "for i in recommend_cosine:\n",
    "    print(data.iloc[i])\n",
    "    print(\"---------------------------------------\")"
   ]
  },
  {
   "cell_type": "markdown",
   "id": "a2087b67",
   "metadata": {},
   "source": [
    "### Manhattan Distance"
   ]
  },
  {
   "cell_type": "code",
   "execution_count": 13,
   "id": "496e3c16",
   "metadata": {},
   "outputs": [],
   "source": [
    "test_manhattan = manhattan_distances(tfidf_matrix, test)\n",
    "recommend_manhattan = sorted(range(len(test_manhattan)), key = lambda sub: test_manhattan[sub])[:5]"
   ]
  },
  {
   "cell_type": "code",
   "execution_count": 14,
   "id": "200cc2c1",
   "metadata": {},
   "outputs": [
    {
     "name": "stdout",
     "output_type": "stream",
     "text": [
      "url                  https://panlasangpinoy.com/filipino-food-fried...\n",
      "food                                              Fried Tilapia Recipe\n",
      "course                                                            none\n",
      "ingredients          2 pieces tilapia cleaned and scales removed, 2...\n",
      "instructions         Rub salt all over the fish including the insid...\n",
      "ingredients_clean                                              tilapia\n",
      "ingredients_token                                          ['tilapia']\n",
      "Name: 315, dtype: object\n",
      "---------------------------------------\n",
      "url                      https://www.kawalingpinoy.com/tortang-talong/\n",
      "food                                                    Tortang Talong\n",
      "course                                                       Side Dish\n",
      "ingredients          4 eggplants, 4 eggs, salt and pepper to taste....\n",
      "instructions         With a knife or fork, prick eggplant. Arrange ...\n",
      "ingredients_clean                                         eggplant egg\n",
      "ingredients_token                                  ['eggplant', 'egg']\n",
      "Name: 2161, dtype: object\n",
      "---------------------------------------\n",
      "url                  https://panlasangpinoy.com/crispy-adobo-flakes...\n",
      "food                                        Crispy Adobo Flakes Recipe\n",
      "course                                                            none\n",
      "ingredients           1 lb pork adobo cooked, 1/2 to 1 cup cooking oil\n",
      "instructions         Shred the pork adobo slices along the grain.\\n...\n",
      "ingredients_clean                                           pork adobo\n",
      "ingredients_token                                    ['pork', 'adobo']\n",
      "Name: 1463, dtype: object\n",
      "---------------------------------------\n",
      "url                       https://panlasangpinoy.com/fried-fish-adobo/\n",
      "food                                                  Fried Fish Adobo\n",
      "course                                                            none\n",
      "ingredients          2 lbs. Fish Adobo click here for recipe, 3/4 c...\n",
      "instructions         Drain the liquid from the fish adobo.\\nHeat a ...\n",
      "ingredients_clean                                           fish adobo\n",
      "ingredients_token                                    ['fish', 'adobo']\n",
      "Name: 1084, dtype: object\n",
      "---------------------------------------\n",
      "url                  https://panlasangpinoy.com/hoisin-glazed-grill...\n",
      "food                                        Hoisin Glazed Grilled Tofu\n",
      "course                                                            none\n",
      "ingredients          14 oz. extra firm tofu sliced into 1/2 inch th...\n",
      "instructions         Combine hoisin sauce, salt, and pepper. Mix we...\n",
      "ingredients_clean                                    tofu hoisin sauce\n",
      "ingredients_token                          ['tofu', 'hoisin', 'sauce']\n",
      "Name: 1205, dtype: object\n",
      "---------------------------------------\n"
     ]
    }
   ],
   "source": [
    "for i in recommend_manhattan:\n",
    "    print(data.iloc[i])\n",
    "    print(\"---------------------------------------\")"
   ]
  },
  {
   "cell_type": "markdown",
   "id": "2237a31d",
   "metadata": {},
   "source": [
    "### Euclidean Distance"
   ]
  },
  {
   "cell_type": "code",
   "execution_count": 11,
   "id": "cc873d0a",
   "metadata": {},
   "outputs": [],
   "source": [
    "test_euclid = euclidean_distances(tfidf_matrix, test)\n",
    "recommend_euclid = sorted(range(len(test_euclid)), key = lambda sub: test_euclid[sub])[:5]"
   ]
  },
  {
   "cell_type": "code",
   "execution_count": 12,
   "id": "ec83fd6d",
   "metadata": {},
   "outputs": [
    {
     "name": "stdout",
     "output_type": "stream",
     "text": [
      "url                  https://panlasangpinoy.com/tochong-bangus-recipe/\n",
      "food                                                    Tochong Bangus\n",
      "course                                                     Main Course\n",
      "ingredients          1 bangus cleaned and sliced diagonally into pi...\n",
      "instructions         Rub salt all over the fish. Let it stay for 10...\n",
      "ingredients_clean    bangus tofu tahure ferment bean curd mash taus...\n",
      "ingredients_token    ['bangus', 'tofu', 'tahure', 'ferment', 'bean'...\n",
      "Name: 71, dtype: object\n",
      "---------------------------------------\n",
      "url                      https://www.kawalingpinoy.com/totsong-bangus/\n",
      "food                                                    Totsong Bangus\n",
      "course                                                            none\n",
      "ingredients          1 whole bangus, scaled, gutted and cut into se...\n",
      "instructions         Rinse fish and drain well. Season with salt an...\n",
      "ingredients_clean    bangus canola tofu onion garlic ginger rom tom...\n",
      "ingredients_token    ['bangus', 'canola', 'tofu', 'onion', 'garlic'...\n",
      "Name: 2117, dtype: object\n",
      "---------------------------------------\n",
      "url                  https://www.kawalingpinoy.com/tokwat-baboy-tausi/\n",
      "food                                          Tokwa’t Baboy with Tausi\n",
      "course                                                     Main Entree\n",
      "ingredients          2 pounds pork belly, cut into 2-inch cubes, 1 ...\n",
      "instructions         Remove tofu from packaging and drain from pack...\n",
      "ingredients_clean    pork belly cub vinegar bay leaf canola tofu on...\n",
      "ingredients_token    ['pork', 'belly', 'cub', 'vinegar', 'bay', 'le...\n",
      "Name: 1740, dtype: object\n",
      "---------------------------------------\n",
      "url                    https://panlasangpinoy.com/fried-bangus-recipe/\n",
      "food                              Fried Bangus Recipe (Fried Milkfish)\n",
      "course                                                            none\n",
      "ingredients          1 large boneless bangus milkfish; scales remov...\n",
      "instructions         Combine vinegar, garlic, whole peppercorn, and...\n",
      "ingredients_clean    bangus milkfish butterflied white vinegar garl...\n",
      "ingredients_token    ['bangus', 'milkfish', 'butterflied', 'white',...\n",
      "Name: 1387, dtype: object\n",
      "---------------------------------------\n",
      "url                  https://panlasangpinoy.com/hoisin-glazed-grill...\n",
      "food                                        Hoisin Glazed Grilled Tofu\n",
      "course                                                            none\n",
      "ingredients          14 oz. extra firm tofu sliced into 1/2 inch th...\n",
      "instructions         Combine hoisin sauce, salt, and pepper. Mix we...\n",
      "ingredients_clean                                    tofu hoisin sauce\n",
      "ingredients_token                          ['tofu', 'hoisin', 'sauce']\n",
      "Name: 1205, dtype: object\n",
      "---------------------------------------\n"
     ]
    }
   ],
   "source": [
    "for i in recommend_euclid:\n",
    "    print(data.iloc[i])\n",
    "    print(\"---------------------------------------\")"
   ]
  },
  {
   "cell_type": "code",
   "execution_count": null,
   "id": "16249f3b",
   "metadata": {},
   "outputs": [],
   "source": []
  }
 ],
 "metadata": {
  "kernelspec": {
   "display_name": "Python 3 (ipykernel)",
   "language": "python",
   "name": "python3"
  },
  "language_info": {
   "codemirror_mode": {
    "name": "ipython",
    "version": 3
   },
   "file_extension": ".py",
   "mimetype": "text/x-python",
   "name": "python",
   "nbconvert_exporter": "python",
   "pygments_lexer": "ipython3",
   "version": "3.9.13"
  }
 },
 "nbformat": 4,
 "nbformat_minor": 5
}
