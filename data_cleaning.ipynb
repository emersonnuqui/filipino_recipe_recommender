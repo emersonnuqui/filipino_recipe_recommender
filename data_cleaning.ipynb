{
 "cells": [
  {
   "cell_type": "code",
   "execution_count": 1,
   "id": "783fe199",
   "metadata": {},
   "outputs": [
    {
     "name": "stderr",
     "output_type": "stream",
     "text": [
      "<frozen importlib._bootstrap>:228: RuntimeWarning: scipy._lib.messagestream.MessageStream size changed, may indicate binary incompatibility. Expected 56 from C header, got 64 from PyObject\n",
      "[nltk_data] Downloading package stopwords to\n",
      "[nltk_data]     C:\\Users\\Emong\\AppData\\Roaming\\nltk_data...\n",
      "[nltk_data]   Package stopwords is already up-to-date!\n",
      "[nltk_data] Downloading package wordnet to\n",
      "[nltk_data]     C:\\Users\\Emong\\AppData\\Roaming\\nltk_data...\n",
      "[nltk_data]   Package wordnet is already up-to-date!\n",
      "[nltk_data] Downloading package omw-1.4 to\n",
      "[nltk_data]     C:\\Users\\Emong\\AppData\\Roaming\\nltk_data...\n",
      "[nltk_data]   Package omw-1.4 is already up-to-date!\n"
     ]
    }
   ],
   "source": [
    "import pandas as pd\n",
    "import numpy as np\n",
    "\n",
    "import nltk\n",
    "from nltk.corpus import stopwords\n",
    "from nltk.tokenize import RegexpTokenizer\n",
    "from nltk.stem import WordNetLemmatizer\n",
    "from nltk.stem.porter import PorterStemmer\n",
    "from nltk.stem.lancaster import LancasterStemmer\n",
    "from nltk.corpus import wordnet \n",
    "import string\n",
    "\n",
    "nltk.download('stopwords')\n",
    "nltk.download('wordnet')\n",
    "nltk.download('omw-1.4')\n",
    "\n",
    "from sklearn.feature_extraction.text import TfidfVectorizer\n",
    "from sklearn.decomposition import LatentDirichletAllocation\n",
    "from sklearn.metrics.pairwise import cosine_similarity\n"
   ]
  },
  {
   "cell_type": "code",
   "execution_count": 3,
   "id": "43d3cfe2",
   "metadata": {},
   "outputs": [
    {
     "data": {
      "text/html": [
       "<div>\n",
       "<style scoped>\n",
       "    .dataframe tbody tr th:only-of-type {\n",
       "        vertical-align: middle;\n",
       "    }\n",
       "\n",
       "    .dataframe tbody tr th {\n",
       "        vertical-align: top;\n",
       "    }\n",
       "\n",
       "    .dataframe thead th {\n",
       "        text-align: right;\n",
       "    }\n",
       "</style>\n",
       "<table border=\"1\" class=\"dataframe\">\n",
       "  <thead>\n",
       "    <tr style=\"text-align: right;\">\n",
       "      <th></th>\n",
       "      <th>url</th>\n",
       "      <th>food</th>\n",
       "      <th>course</th>\n",
       "      <th>ingredients</th>\n",
       "      <th>instructions</th>\n",
       "    </tr>\n",
       "  </thead>\n",
       "  <tbody>\n",
       "    <tr>\n",
       "      <th>0</th>\n",
       "      <td>https://panlasangpinoy.com/ham-katsu/</td>\n",
       "      <td>Ham Katsu</td>\n",
       "      <td>Main Course</td>\n",
       "      <td>500 grams CDO Holiday Ham sliced (1-inch thick...</td>\n",
       "      <td>Heat cooking oil in a pan.\\nDredge a slice of ...</td>\n",
       "    </tr>\n",
       "    <tr>\n",
       "      <th>1</th>\n",
       "      <td>https://panlasangpinoy.com/cheesy-ham-steak-wi...</td>\n",
       "      <td>Cheesy Ham Steak with Bacon and Mushroom</td>\n",
       "      <td>Main Course</td>\n",
       "      <td>500 grams CDO Holiday Ham sliced (1-inch thick...</td>\n",
       "      <td>Melt butter in a pan. Sauté onion and garlic. ...</td>\n",
       "    </tr>\n",
       "    <tr>\n",
       "      <th>2</th>\n",
       "      <td>https://panlasangpinoy.com/hawaiian-pizza-no-b...</td>\n",
       "      <td>Hawaiian Pizza (No Bake)</td>\n",
       "      <td>none</td>\n",
       "      <td>75 grams CDO Sweet Ham sliced, ½ cup pineapple...</td>\n",
       "      <td>Make the pizza dough by combining flour, bakin...</td>\n",
       "    </tr>\n",
       "    <tr>\n",
       "      <th>3</th>\n",
       "      <td>https://panlasangpinoy.com/crispy-katsu-sando/</td>\n",
       "      <td>Crispy Katsu Sando</td>\n",
       "      <td>Sandwich</td>\n",
       "      <td>6 CDO Crispy burger patties, 3 slices tasty br...</td>\n",
       "      <td>Heat the cooking oil in a pan. Fry both sides ...</td>\n",
       "    </tr>\n",
       "    <tr>\n",
       "      <th>4</th>\n",
       "      <td>https://panlasangpinoy.com/orange-crispy-burger/</td>\n",
       "      <td>Orange Crispy Burger</td>\n",
       "      <td>none</td>\n",
       "      <td>3 CDO Crispy burger patties, 2 tablespoons gre...</td>\n",
       "      <td>Heat the cooking oil in a pan. Fry both sides ...</td>\n",
       "    </tr>\n",
       "    <tr>\n",
       "      <th>...</th>\n",
       "      <td>...</td>\n",
       "      <td>...</td>\n",
       "      <td>...</td>\n",
       "      <td>...</td>\n",
       "      <td>...</td>\n",
       "    </tr>\n",
       "    <tr>\n",
       "      <th>591</th>\n",
       "      <td>https://www.kawalingpinoy.com/garlic-butter-fr...</td>\n",
       "      <td>Garlic Butter Fried Frog Legs</td>\n",
       "      <td>none</td>\n",
       "      <td>1 lb about 3 to 4 pieces frog legs, 1 tablespo...</td>\n",
       "      <td>Rinse frog legs and pat dry.\\nIn a bowl, combi...</td>\n",
       "    </tr>\n",
       "    <tr>\n",
       "      <th>592</th>\n",
       "      <td>https://www.kawalingpinoy.com/tinolang-manok-c...</td>\n",
       "      <td>Tinolang Manok</td>\n",
       "      <td>Main Entree</td>\n",
       "      <td>1 tablespoon canola oil, 1 small onion, peeled...</td>\n",
       "      <td>In a pot over medium heat, heat oil. Add onion...</td>\n",
       "    </tr>\n",
       "    <tr>\n",
       "      <th>593</th>\n",
       "      <td>https://www.kawalingpinoy.com/tilapia-with-bla...</td>\n",
       "      <td>Tilapia in Black Bean Garlic Sauce</td>\n",
       "      <td>Main Entree</td>\n",
       "      <td>4 (4 ounces each) tilapia fillets, salt and pe...</td>\n",
       "      <td>Wash tilapia and pat dry. Lightly season with ...</td>\n",
       "    </tr>\n",
       "    <tr>\n",
       "      <th>594</th>\n",
       "      <td>https://www.kawalingpinoy.com/pork-adobo/</td>\n",
       "      <td>Pork Adobo</td>\n",
       "      <td>Main Entree</td>\n",
       "      <td>2 pounds pork belly, cut into 2-inch cubes, 1 ...</td>\n",
       "      <td>In a bowl, combine pork, onions, garlic, bay l...</td>\n",
       "    </tr>\n",
       "    <tr>\n",
       "      <th>595</th>\n",
       "      <td>https://www.kawalingpinoy.com/sinigang-na-baboy/</td>\n",
       "      <td>Sinigang na Baboy</td>\n",
       "      <td>Main Entree</td>\n",
       "      <td>2 pounds pork spare ribs, cut into 2-inch piec...</td>\n",
       "      <td>Rinse pork ribs and drain well.\\nIn a pot over...</td>\n",
       "    </tr>\n",
       "  </tbody>\n",
       "</table>\n",
       "<p>2354 rows × 5 columns</p>\n",
       "</div>"
      ],
      "text/plain": [
       "                                                   url  \\\n",
       "0                https://panlasangpinoy.com/ham-katsu/   \n",
       "1    https://panlasangpinoy.com/cheesy-ham-steak-wi...   \n",
       "2    https://panlasangpinoy.com/hawaiian-pizza-no-b...   \n",
       "3       https://panlasangpinoy.com/crispy-katsu-sando/   \n",
       "4     https://panlasangpinoy.com/orange-crispy-burger/   \n",
       "..                                                 ...   \n",
       "591  https://www.kawalingpinoy.com/garlic-butter-fr...   \n",
       "592  https://www.kawalingpinoy.com/tinolang-manok-c...   \n",
       "593  https://www.kawalingpinoy.com/tilapia-with-bla...   \n",
       "594          https://www.kawalingpinoy.com/pork-adobo/   \n",
       "595   https://www.kawalingpinoy.com/sinigang-na-baboy/   \n",
       "\n",
       "                                         food       course  \\\n",
       "0                                   Ham Katsu  Main Course   \n",
       "1    Cheesy Ham Steak with Bacon and Mushroom  Main Course   \n",
       "2                    Hawaiian Pizza (No Bake)         none   \n",
       "3                          Crispy Katsu Sando     Sandwich   \n",
       "4                        Orange Crispy Burger         none   \n",
       "..                                        ...          ...   \n",
       "591             Garlic Butter Fried Frog Legs         none   \n",
       "592                            Tinolang Manok  Main Entree   \n",
       "593        Tilapia in Black Bean Garlic Sauce  Main Entree   \n",
       "594                                Pork Adobo  Main Entree   \n",
       "595                         Sinigang na Baboy  Main Entree   \n",
       "\n",
       "                                           ingredients  \\\n",
       "0    500 grams CDO Holiday Ham sliced (1-inch thick...   \n",
       "1    500 grams CDO Holiday Ham sliced (1-inch thick...   \n",
       "2    75 grams CDO Sweet Ham sliced, ½ cup pineapple...   \n",
       "3    6 CDO Crispy burger patties, 3 slices tasty br...   \n",
       "4    3 CDO Crispy burger patties, 2 tablespoons gre...   \n",
       "..                                                 ...   \n",
       "591  1 lb about 3 to 4 pieces frog legs, 1 tablespo...   \n",
       "592  1 tablespoon canola oil, 1 small onion, peeled...   \n",
       "593  4 (4 ounces each) tilapia fillets, salt and pe...   \n",
       "594  2 pounds pork belly, cut into 2-inch cubes, 1 ...   \n",
       "595  2 pounds pork spare ribs, cut into 2-inch piec...   \n",
       "\n",
       "                                          instructions  \n",
       "0    Heat cooking oil in a pan.\\nDredge a slice of ...  \n",
       "1    Melt butter in a pan. Sauté onion and garlic. ...  \n",
       "2    Make the pizza dough by combining flour, bakin...  \n",
       "3    Heat the cooking oil in a pan. Fry both sides ...  \n",
       "4    Heat the cooking oil in a pan. Fry both sides ...  \n",
       "..                                                 ...  \n",
       "591  Rinse frog legs and pat dry.\\nIn a bowl, combi...  \n",
       "592  In a pot over medium heat, heat oil. Add onion...  \n",
       "593  Wash tilapia and pat dry. Lightly season with ...  \n",
       "594  In a bowl, combine pork, onions, garlic, bay l...  \n",
       "595  Rinse pork ribs and drain well.\\nIn a pot over...  \n",
       "\n",
       "[2354 rows x 5 columns]"
      ]
     },
     "execution_count": 3,
     "metadata": {},
     "output_type": "execute_result"
    }
   ],
   "source": [
    "panlasang_pinoy_df = pd.read_csv(\"data/panlasang_pinoy.csv\")\n",
    "kawaling_pinoy_df = pd.read_csv(\"data/kawaling_pinoy.csv\")\n",
    "\n",
    "recipe_df = pd.concat([panlasang_pinoy_df, kawaling_pinoy_df], axis=0)\n",
    "recipe_df"
   ]
  },
  {
   "cell_type": "code",
   "execution_count": 4,
   "id": "d1df0c60",
   "metadata": {},
   "outputs": [
    {
     "data": {
      "text/plain": [
       "Index(['url', 'food', 'course', 'ingredients', 'instructions'], dtype='object')"
      ]
     },
     "metadata": {},
     "output_type": "display_data"
    },
    {
     "data": {
      "text/plain": [
       "url              0\n",
       "food             0\n",
       "course           0\n",
       "ingredients     73\n",
       "instructions     0\n",
       "dtype: int64"
      ]
     },
     "metadata": {},
     "output_type": "display_data"
    },
    {
     "data": {
      "text/plain": [
       "(2354, 5)"
      ]
     },
     "metadata": {},
     "output_type": "display_data"
    }
   ],
   "source": [
    "display(recipe_df.columns, recipe_df.isna().sum(), recipe_df.shape)"
   ]
  },
  {
   "cell_type": "code",
   "execution_count": 5,
   "id": "daa51807",
   "metadata": {},
   "outputs": [],
   "source": [
    "recipe_df = recipe_df.dropna(subset=['ingredients']).drop_duplicates(subset=['food']).reset_index(drop=True)"
   ]
  },
  {
   "cell_type": "code",
   "execution_count": 6,
   "id": "3fd75881",
   "metadata": {},
   "outputs": [
    {
     "data": {
      "text/html": [
       "<div>\n",
       "<style scoped>\n",
       "    .dataframe tbody tr th:only-of-type {\n",
       "        vertical-align: middle;\n",
       "    }\n",
       "\n",
       "    .dataframe tbody tr th {\n",
       "        vertical-align: top;\n",
       "    }\n",
       "\n",
       "    .dataframe thead th {\n",
       "        text-align: right;\n",
       "    }\n",
       "</style>\n",
       "<table border=\"1\" class=\"dataframe\">\n",
       "  <thead>\n",
       "    <tr style=\"text-align: right;\">\n",
       "      <th></th>\n",
       "      <th>url</th>\n",
       "      <th>food</th>\n",
       "      <th>course</th>\n",
       "      <th>ingredients</th>\n",
       "      <th>instructions</th>\n",
       "    </tr>\n",
       "  </thead>\n",
       "  <tbody>\n",
       "    <tr>\n",
       "      <th>0</th>\n",
       "      <td>https://panlasangpinoy.com/ham-katsu/</td>\n",
       "      <td>Ham Katsu</td>\n",
       "      <td>Main Course</td>\n",
       "      <td>500 grams CDO Holiday Ham sliced (1-inch thick...</td>\n",
       "      <td>Heat cooking oil in a pan.\\nDredge a slice of ...</td>\n",
       "    </tr>\n",
       "    <tr>\n",
       "      <th>1</th>\n",
       "      <td>https://panlasangpinoy.com/cheesy-ham-steak-wi...</td>\n",
       "      <td>Cheesy Ham Steak with Bacon and Mushroom</td>\n",
       "      <td>Main Course</td>\n",
       "      <td>500 grams CDO Holiday Ham sliced (1-inch thick...</td>\n",
       "      <td>Melt butter in a pan. Sauté onion and garlic. ...</td>\n",
       "    </tr>\n",
       "    <tr>\n",
       "      <th>2</th>\n",
       "      <td>https://panlasangpinoy.com/hawaiian-pizza-no-b...</td>\n",
       "      <td>Hawaiian Pizza (No Bake)</td>\n",
       "      <td>none</td>\n",
       "      <td>75 grams CDO Sweet Ham sliced, ½ cup pineapple...</td>\n",
       "      <td>Make the pizza dough by combining flour, bakin...</td>\n",
       "    </tr>\n",
       "    <tr>\n",
       "      <th>3</th>\n",
       "      <td>https://panlasangpinoy.com/crispy-katsu-sando/</td>\n",
       "      <td>Crispy Katsu Sando</td>\n",
       "      <td>Sandwich</td>\n",
       "      <td>6 CDO Crispy burger patties, 3 slices tasty br...</td>\n",
       "      <td>Heat the cooking oil in a pan. Fry both sides ...</td>\n",
       "    </tr>\n",
       "    <tr>\n",
       "      <th>4</th>\n",
       "      <td>https://panlasangpinoy.com/orange-crispy-burger/</td>\n",
       "      <td>Orange Crispy Burger</td>\n",
       "      <td>none</td>\n",
       "      <td>3 CDO Crispy burger patties, 2 tablespoons gre...</td>\n",
       "      <td>Heat the cooking oil in a pan. Fry both sides ...</td>\n",
       "    </tr>\n",
       "    <tr>\n",
       "      <th>...</th>\n",
       "      <td>...</td>\n",
       "      <td>...</td>\n",
       "      <td>...</td>\n",
       "      <td>...</td>\n",
       "      <td>...</td>\n",
       "    </tr>\n",
       "    <tr>\n",
       "      <th>2188</th>\n",
       "      <td>https://www.kawalingpinoy.com/garlic-butter-fr...</td>\n",
       "      <td>Garlic Butter Fried Frog Legs</td>\n",
       "      <td>none</td>\n",
       "      <td>1 lb about 3 to 4 pieces frog legs, 1 tablespo...</td>\n",
       "      <td>Rinse frog legs and pat dry.\\nIn a bowl, combi...</td>\n",
       "    </tr>\n",
       "    <tr>\n",
       "      <th>2189</th>\n",
       "      <td>https://www.kawalingpinoy.com/tinolang-manok-c...</td>\n",
       "      <td>Tinolang Manok</td>\n",
       "      <td>Main Entree</td>\n",
       "      <td>1 tablespoon canola oil, 1 small onion, peeled...</td>\n",
       "      <td>In a pot over medium heat, heat oil. Add onion...</td>\n",
       "    </tr>\n",
       "    <tr>\n",
       "      <th>2190</th>\n",
       "      <td>https://www.kawalingpinoy.com/tilapia-with-bla...</td>\n",
       "      <td>Tilapia in Black Bean Garlic Sauce</td>\n",
       "      <td>Main Entree</td>\n",
       "      <td>4 (4 ounces each) tilapia fillets, salt and pe...</td>\n",
       "      <td>Wash tilapia and pat dry. Lightly season with ...</td>\n",
       "    </tr>\n",
       "    <tr>\n",
       "      <th>2191</th>\n",
       "      <td>https://www.kawalingpinoy.com/pork-adobo/</td>\n",
       "      <td>Pork Adobo</td>\n",
       "      <td>Main Entree</td>\n",
       "      <td>2 pounds pork belly, cut into 2-inch cubes, 1 ...</td>\n",
       "      <td>In a bowl, combine pork, onions, garlic, bay l...</td>\n",
       "    </tr>\n",
       "    <tr>\n",
       "      <th>2192</th>\n",
       "      <td>https://www.kawalingpinoy.com/sinigang-na-baboy/</td>\n",
       "      <td>Sinigang na Baboy</td>\n",
       "      <td>Main Entree</td>\n",
       "      <td>2 pounds pork spare ribs, cut into 2-inch piec...</td>\n",
       "      <td>Rinse pork ribs and drain well.\\nIn a pot over...</td>\n",
       "    </tr>\n",
       "  </tbody>\n",
       "</table>\n",
       "<p>2193 rows × 5 columns</p>\n",
       "</div>"
      ],
      "text/plain": [
       "                                                    url  \\\n",
       "0                 https://panlasangpinoy.com/ham-katsu/   \n",
       "1     https://panlasangpinoy.com/cheesy-ham-steak-wi...   \n",
       "2     https://panlasangpinoy.com/hawaiian-pizza-no-b...   \n",
       "3        https://panlasangpinoy.com/crispy-katsu-sando/   \n",
       "4      https://panlasangpinoy.com/orange-crispy-burger/   \n",
       "...                                                 ...   \n",
       "2188  https://www.kawalingpinoy.com/garlic-butter-fr...   \n",
       "2189  https://www.kawalingpinoy.com/tinolang-manok-c...   \n",
       "2190  https://www.kawalingpinoy.com/tilapia-with-bla...   \n",
       "2191          https://www.kawalingpinoy.com/pork-adobo/   \n",
       "2192   https://www.kawalingpinoy.com/sinigang-na-baboy/   \n",
       "\n",
       "                                          food       course  \\\n",
       "0                                    Ham Katsu  Main Course   \n",
       "1     Cheesy Ham Steak with Bacon and Mushroom  Main Course   \n",
       "2                     Hawaiian Pizza (No Bake)         none   \n",
       "3                           Crispy Katsu Sando     Sandwich   \n",
       "4                         Orange Crispy Burger         none   \n",
       "...                                        ...          ...   \n",
       "2188             Garlic Butter Fried Frog Legs         none   \n",
       "2189                            Tinolang Manok  Main Entree   \n",
       "2190        Tilapia in Black Bean Garlic Sauce  Main Entree   \n",
       "2191                                Pork Adobo  Main Entree   \n",
       "2192                         Sinigang na Baboy  Main Entree   \n",
       "\n",
       "                                            ingredients  \\\n",
       "0     500 grams CDO Holiday Ham sliced (1-inch thick...   \n",
       "1     500 grams CDO Holiday Ham sliced (1-inch thick...   \n",
       "2     75 grams CDO Sweet Ham sliced, ½ cup pineapple...   \n",
       "3     6 CDO Crispy burger patties, 3 slices tasty br...   \n",
       "4     3 CDO Crispy burger patties, 2 tablespoons gre...   \n",
       "...                                                 ...   \n",
       "2188  1 lb about 3 to 4 pieces frog legs, 1 tablespo...   \n",
       "2189  1 tablespoon canola oil, 1 small onion, peeled...   \n",
       "2190  4 (4 ounces each) tilapia fillets, salt and pe...   \n",
       "2191  2 pounds pork belly, cut into 2-inch cubes, 1 ...   \n",
       "2192  2 pounds pork spare ribs, cut into 2-inch piec...   \n",
       "\n",
       "                                           instructions  \n",
       "0     Heat cooking oil in a pan.\\nDredge a slice of ...  \n",
       "1     Melt butter in a pan. Sauté onion and garlic. ...  \n",
       "2     Make the pizza dough by combining flour, bakin...  \n",
       "3     Heat the cooking oil in a pan. Fry both sides ...  \n",
       "4     Heat the cooking oil in a pan. Fry both sides ...  \n",
       "...                                                 ...  \n",
       "2188  Rinse frog legs and pat dry.\\nIn a bowl, combi...  \n",
       "2189  In a pot over medium heat, heat oil. Add onion...  \n",
       "2190  Wash tilapia and pat dry. Lightly season with ...  \n",
       "2191  In a bowl, combine pork, onions, garlic, bay l...  \n",
       "2192  Rinse pork ribs and drain well.\\nIn a pot over...  \n",
       "\n",
       "[2193 rows x 5 columns]"
      ]
     },
     "execution_count": 6,
     "metadata": {},
     "output_type": "execute_result"
    }
   ],
   "source": [
    "recipe_df"
   ]
  },
  {
   "cell_type": "code",
   "execution_count": 7,
   "id": "eeaee7bf",
   "metadata": {},
   "outputs": [
    {
     "data": {
      "text/plain": [
       "url             0\n",
       "food            0\n",
       "course          0\n",
       "ingredients     0\n",
       "instructions    0\n",
       "dtype: int64"
      ]
     },
     "metadata": {},
     "output_type": "display_data"
    },
    {
     "data": {
      "text/plain": [
       "(2193, 5)"
      ]
     },
     "metadata": {},
     "output_type": "display_data"
    }
   ],
   "source": [
    "display(recipe_df.isna().sum(), recipe_df.shape)"
   ]
  },
  {
   "cell_type": "markdown",
   "id": "4dbd22e2",
   "metadata": {},
   "source": [
    "## Text Preprocessing"
   ]
  },
  {
   "cell_type": "code",
   "execution_count": 8,
   "id": "40510ae2",
   "metadata": {},
   "outputs": [],
   "source": [
    "def remove_punctuation(text):\n",
    "    no_punct = \"\".join([c for c in text if c not in string.punctuation])\n",
    "    return no_punct\n",
    "\n",
    "tokenizer = RegexpTokenizer(r\"[a-zA-Z]+\")\n",
    "\n",
    "def remove_stopwords(text):\n",
    "    stopwords = nltk.corpus.stopwords.words('english')\n",
    "    words = [w for w in text if w not in stopwords]\n",
    "    return words \n",
    "\n",
    "def word_lemmatizer(text):\n",
    "    lemma = WordNetLemmatizer()\n",
    "    lem_text_verb = [lemma.lemmatize(i, wordnet.VERB) for i in text]\n",
    "    lem_text = [lemma.lemmatize(i, wordnet.NOUN) for i in lem_text_verb]\n",
    "    return lem_text\n",
    "\n",
    "def word_stemmer(text):\n",
    "    stemmer = WordNetLemmatizer()\n",
    "    stem_text = [stemmer.stem(i) for i in text]\n",
    "    return stem_text\n",
    "\n",
    "def additional_stopwords(text):\n",
    "    add_stop = ['gram', 'pound', 'inch', 'lb', 'lbs', 'cup', 'thick', 'slice', 'teaspoon','tablespoon',\n",
    "               'drop', 'pinch', 'pint', 'gallon', 'liter', 'milliliter', 'ml', 'kilo', 'kg', 'oz','ounce',\n",
    "               'about', 'to', 'pound', 'cut', 'salt', 'piece', 'chop', 'water', 'mince', 'cook','grind',\n",
    "               'peel', 'taste', 'medium', 'small', 'cut', 'clove', 'green', 'crush', 'optional', 'large',\n",
    "               'leave', 'dry', 'fresh', 'cube', 'whole', 'thinly', 'strip', 'brown', 'shred',\n",
    "               'optional', 'clean', 'bunch', 'serve', 'thai', 'julienne', 'boil', 'long', 'boneless', \n",
    "               'grate', 'beat', 'sweet', 'remove', 'quarter', 'extract', 'drain', 'package', 'thin',\n",
    "               'trim', 'chinese', 'season', 'core', 'fry', 'mix', 'extra', 'end', 'liquid', 'length', \n",
    "               'melt', 'glutinous', 'half', 'pack', 'thumbsize', 'tbsp', 'soften', 'g', 'recipe', 'quart',\n",
    "               'firm', 'unsalted', 'salt', 'pepper', 'choice', 'size', 'young', 'leftover', 'lengthwise',\n",
    "                'pinch', 'crosswise', 'separate', 'well', 'tsp', 'use', 'part', 'scale', 'diagonally',\n",
    "                'instruction', 'wash', 'steam', 'round', 'unripe', 'reserve', 'table', 'button', 'snow',\n",
    "               'oil', 'finely', 'free', 'nonstick', 'accord', 'sa', 'ng', 'preferably', 'rinse', 'need',\n",
    "               'homemade', 'also', 'elbow', 'real', 'tabespoon', 'shreddedgrated', 'color', 'gutted',\n",
    "               'tidbit','style', 'bit', 'food', 'savorrich', 'quick', 'temperature', 'ap', 'freshly',\n",
    "               'room','snap', 'ball', 'low', 'see', 'thumbsized', 'active', 'bundle', 'na', 'instant', \n",
    "               'pit', 'brand', 'procedure', 'mediumsized', 'f', 'original', 'shorten', \n",
    "               'malagkit', 'filipino', 'french', 'american', 'minute', 'individual', 'manila', 'dissolve',\n",
    "               'sachet', 'process', 'ingredient', 'coarsely', 'regular', 'essence', 'portion', 'lightly',\n",
    "               'short', 'side', 'get', 'wide', 'packet', 'x', 'imitation', 'fine', 'clear', 'per', 'divide',\n",
    "               'deep', 'bottom', 'dress', 'link', 'five', 'combine', 'thickness', 'semisweet', 'plus', \n",
    "               'count','real', 'pouch', 'overnight', 'click', 'indian', 'jumbo', 'discard', 'lower', \n",
    "               'dip', 'third', 'good', 'equivalent', 'without','around', 'lukewarm', 'tip', 'want', 'single',\n",
    "               'amount', 'enough', 'lenghtwise','fill', 'intact', 'paper', 'block', 'mini', 'two', 'halfrounds',\n",
    "               'cellophane', 'tasty', 'know', 'add', 'mixture', 'paypay', 'view', 'way', 'par', 'refrigerate',\n",
    "                'rectangular', 'precook', 'favorite', 'curly', 'holy', 'prefer', 'pc', 'easy', 'holy', 'shave',\n",
    "                'bite', 'box', 'double', 'refried', 'crisp', 'wrap', 'asian', 'mature', 'full', 'freshlysqueezed',\n",
    "                'filipinostyle', 'sweetstyle', 'smash', 'wellbeaten', 'hugas', 'individually', 'daga', 'derive',\n",
    "                'coat', 'additional', 'sticky', 'sugar', 'de', 'halve', 'freeze']\n",
    "    words = [w for w in text if w not in add_stop]\n",
    "    return words"
   ]
  },
  {
   "cell_type": "code",
   "execution_count": 9,
   "id": "7f5dc0f7",
   "metadata": {},
   "outputs": [],
   "source": [
    "recipe_df['ingredients_clean'] = recipe_df['ingredients'].apply(lambda x: remove_punctuation(x).lower())\n",
    "recipe_df['ingredients_token'] = recipe_df['ingredients_clean'].apply(lambda x: tokenizer.tokenize(x))\n",
    "recipe_df['ingredients_token'] = recipe_df['ingredients_token'].apply(lambda x: word_lemmatizer(x))\n",
    "recipe_df['ingredients_token'] = recipe_df['ingredients_token'].apply(lambda x: remove_stopwords(x))\n",
    "recipe_df['ingredients_token'] = recipe_df['ingredients_token'].apply(lambda x: additional_stopwords(x))\n",
    "recipe_df['ingredients_clean'] = recipe_df['ingredients_token'].apply(lambda x: ' '.join(map(str, x)))"
   ]
  },
  {
   "cell_type": "code",
   "execution_count": 10,
   "id": "cb0a489b",
   "metadata": {},
   "outputs": [],
   "source": [
    "recipe_df = recipe_df[recipe_df['course'] != \"Sauce\"].reset_index(drop=True)"
   ]
  },
  {
   "cell_type": "code",
   "execution_count": 11,
   "id": "ea62b190",
   "metadata": {},
   "outputs": [
    {
     "name": "stdout",
     "output_type": "stream",
     "text": [
      "Counter({'onion': 1427, 'garlic': 1381, 'sauce': 1209, 'black': 845, 'pork': 668, 'chicken': 609, 'powder': 593, 'egg': 588, 'cub': 522, 'white': 490, 'tomato': 486, 'soy': 473, 'milk': 450, 'beef': 438, 'red': 404, 'fish': 389, 'flour': 363, 'butter': 355, 'yellow': 348, 'bell': 336, 'vinegar': 334, 'knorr': 311, 'ginger': 306, 'cheese': 298, 'coconut': 292, 'shrimp': 287, 'carrot': 286, 'canola': 282, 'chili': 281, 'dice': 278, 'rice': 275, 'cream': 250, 'bean': 244, 'broth': 238, 'juice': 217, 'cornstarch': 212, 'head': 202, 'allpurpose': 198, 'lemon': 185, 'granulate': 183, 'olive': 180, 'seed': 175, 'peppercorn': 173, 'bay': 171, 'potato': 167, 'bake': 161, 'belly': 151, 'breast': 133, 'banana': 131, 'cabbage': 127, 'wedge': 127, 'noodle': 124, 'thumb': 123, 'paste': 121, 'oyster': 120, 'sesame': 119, 'parsley': 119, 'wine': 117, 'pea': 114, 'mayonnaise': 110, 'pineapple': 108, 'corn': 108, 'cheddar': 102, 'bread': 99, 'vanilla': 99, 'condense': 96, 'calamansi': 95, 'scallion': 91, 'eggplant': 89, 'liver': 85, 'spinach': 84, 'lime': 84, 'mushroom': 83, 'stalk': 82, 'ripe': 82, 'shell': 81, 'patis': 81, 'raw': 77, 'sea': 76, 'ketchup': 74, 'crumb': 72, 'flake': 71, 'celery': 71, 'parmesan': 69, 'vegetable': 69, 'bagoong': 65, 'evaporate': 62, 'virgin': 61, 'meat': 60, 'peanut': 60, 'okra': 60, 'baby': 60, 'devein': 60, 'chunk': 59, 'annatto': 57, 'choy': 57, 'toast': 56, 'bok': 55, 'shoulder': 55, 'roast': 54, 'tofu': 54, 'soda': 54, 'light': 53, 'raisin': 52, 'leaf': 52, 'stem': 51, 'ham': 49, 'paprika': 49, 'fillet': 49, 'cold': 49, 'rom': 49, 'bacon': 48, 'dilute': 48, 'skinless': 48, 'heavy': 47, 'tuna': 47, 'spaghetti': 47, 'wrapper': 47, 'pig': 45, 'lemongrass': 45, 'mustard': 44, 'lady': 43, 'macaroni': 43, 'steak': 43, 'squash': 43, 'pechay': 43, 'saba': 42, 'sirloin': 41, 'hot': 41, 'malunggay': 41, 'alamang': 40, 'dark': 40, 'ice': 40, 'string': 39, 'squid': 39, 'siling': 39, 'pickle': 38, 'rib': 38, 'sweeten': 38, 'yolk': 38, 'plum': 38, 'thigh': 37, 'broccoli': 37, 'stock': 37, 'flat': 37, 'panko': 36, 'breadcrumb': 36, 'relish': 36, 'crab': 36, 'sitaw': 36, 'sharp': 36, 'tamarind': 36, 'thaw': 36, 'mussel': 35, 'ube': 35, 'worcestershire': 34, 'whip': 34, 'basil': 34, 'kangkong': 34, 'mung': 34, 'sour': 34, 'coarse': 34, 'sinigang': 33, 'hotdog': 33, 'warm': 33, 'apple': 33, 'square': 32, 'napa': 32, 'floret': 32, 'sausage': 32, 'uncooked': 32, 'snake': 32, 'thyme': 31, 'salmon': 31, 'star': 31, 'anise': 31, 'shank': 31, 'stick': 31, 'mango': 31, 'bottle': 31, 'ampalaya': 30, 'lechon': 30, 'dash': 29, 'chicharon': 29, 'jackfruit': 28, 'chuck': 28, 'sherry': 28, 'sift': 28, 'bias': 28, 'spread': 27, 'radish': 27, 'papaya': 27, 'pansigang': 27, 'roll': 27, 'ginataang': 26, 'gulay': 26, 'kalabasa': 26, 'margarine': 26, 'bone': 26, 'hard': 26, 'honey': 25, 'lettuce': 24, 'sampaloc': 24, 'heart': 24, 'cinnamon': 24, 'pata': 23, 'crack': 23, 'tilapia': 23, 'cane': 23, 'shallot': 23, 'curry': 22, 'turmeric': 22, 'grill': 22, 'leg': 22, 'hardboiled': 22, 'chocolate': 22, 'chilies': 22, 'mash': 21, 'daikon': 21, 'spring': 21, 'ring': 21, 'tenderloin': 21, 'gabi': 21, 'soak': 21, 'cayenne': 21, 'chorizo': 20, 'quail': 20, 'pancit': 20, 'rosemary': 20, 'bangus': 20, 'fruit': 20, 'italian': 20, 'purpose': 20, 'sprout': 20, 'cilantro': 20, 'pasta': 19, 'bilbao': 19, 'oregano': 19, 'flavor': 19, 'tripe': 19, 'ox': 19, 'bouillon': 19, 'soup': 19, 'spray': 19, 'bonein': 19, 'milkfish': 19, 'cider': 19, 'blossom': 18, 'buttermilk': 18, 'wing': 18, 'bitter': 18, 'miki': 18, 'yeast': 18, 'sardine': 18, 'pandan': 18, 'mozzarella': 17, 'hoisin': 17, 'gourd': 17, 'purple': 17, 'chip': 17, 'cocoa': 17, 'graham': 17, 'kernel': 16, 'hock': 16, 'dijon': 16, 'skin': 16, 'starch': 16, 'fat': 16, 'nutmeg': 16, 'walnut': 16, 'sago': 16, 'spicy': 16, 'clam': 16, 'cracker': 16, 'cdo': 15, 'crumble': 15, 'taro': 15, 'canton': 15, 'sotanghon': 15, 'sriracha': 15, 'cocktail': 15, 'rind': 15, 'cake': 15, 'chayote': 15, 'base': 15, 'eye': 15, 'finger': 15, 'ear': 14, 'avocado': 14, 'intestine': 14, 'garbanzo': 14, 'turkey': 14, 'cleave': 14, 'miso': 14, 'knob': 14, 'cumin': 14, 'butternut': 14, 'sodium': 14, 'jalapeno': 14, 'rock': 14, 'cashew': 14, 'chestnut': 14, 'tortilla': 13, 'smoke': 13, 'cucumber': 13, 'kaong': 13, 'patola': 13, 'cauliflower': 13, 'yam': 13, 'tinapa': 13, 'baguio': 13, 'upo': 13, 'leek': 13, 'spice': 13, 'wonton': 13, 'tartar': 13, 'syrup': 13, 'eden': 13, 'cassava': 12, 'laurel': 12, 'blood': 12, 'sprig': 12, 'kamia': 12, 'nata': 12, 'coco': 12, 'barbecue': 12, 'spare': 12, 'pearl': 12, 'labuyo': 12, 'cherry': 12, 'dahon': 12, 'grain': 12, 'dill': 12, 'marinara': 11, 'tausi': 11, 'shaoxing': 11, 'labanos': 11, 'serrano': 11, 'galunggong': 11, 'unflavored': 11, 'gelatin': 11, 'soft': 11, 'lumpia': 11, 'tie': 11, 'gata': 11, 'orange': 10, 'swiss': 10, 'grape': 10, 'fettuccine': 10, 'shiitake': 10, 'tongue': 10, 'almond': 10, 'foot': 10, 'misua': 10, 'adobo': 10, 'jasmine': 10, 'zucchini': 10, 'tapioca': 10, 'singkamas': 10, 'flank': 10, 'kakang': 10, 'spanish': 10, 'bird': 10, 'bun': 10, 'butt': 10, 'unsweetened': 10, 'saffron': 9, 'liempo': 9, 'ferment': 9, 'bilimbi': 9, 'bihon': 9, 'kawali': 9, 'calabaza': 9, 'neck': 9, 'tail': 9, 'atsuete': 9, 'knot': 9, 'scallop': 9, 'innards': 9, 'dough': 9, 'tendril': 9, 'bar': 9, 'quickmelt': 8, 'melon': 8, 'back': 8, 'duck': 8, 'kamote': 8, 'mirin': 8, 'tuyo': 8, 'top': 8, 'meatball': 8, 'jack': 8, 'zest': 8, 'extravirgin': 8, 'pie': 8, 'confectioner': 8, 'crispy': 7, 'beer': 7, 'romaine': 7, 'lasagna': 7, 'kidney': 7, 'frank': 7, 'nut': 7, 'anchovy': 7, 'dilis': 7, 'saute': 7, 'lobster': 7, 'isda': 7, 'root': 7, 'jicama': 7, 'hamburger': 7, 'debone': 7, 'lean': 7, 'loin': 7, 'cow': 7, 'crust': 7, 'chill': 7, 'knead': 7, 'sheet': 6, 'rotisserie': 6, 'dog': 6, 'goat': 6, 'sigarilyas': 6, 'gizzard': 6, 'desiccate': 6, 'palm': 6, 'pimiento': 6, 'sprite': 6, 'buko': 6, 'plantain': 6, 'asparagus': 6, 'slab': 6, 'brisket': 6, 'muscovado': 6, 'safflower': 6, 'miswa': 6, 'sushi': 6, 'mahi': 6, 'sinangag': 6, 'blue': 6, 'snapper': 6, 'tablea': 6, 'daing': 6, 'maraschino': 6, 'teriyaki': 6, 'garnish': 6, 'iceberg': 6, 'guava': 6, 'pastry': 6, 'strawberry': 6, 'sake': 6, 'juiced': 6, 'agaragar': 6, 'patty': 5, 'luncheon': 5, 'sundried': 5, 'linguine': 5, 'loaf': 5, 'prawn': 5, 'tanglad': 5, 'marinade': 5, 'loofah': 5, 'sibuyas': 5, 'sag': 5, 'chickpea': 5, 'blueberry': 5, 'tendon': 5, 'scad': 5, 'pan': 5, 'tender': 5, 'sunny': 5, 'blanch': 5, 'wheat': 5, 'rotini': 5, 'pico': 5, 'gallo': 5, 'balsamic': 5, 'romano': 5, 'agar': 5, 'shitake': 5, 'crackle': 5, 'coffee': 5, 'macapuno': 5, 'poach': 5, 'philippine': 5, 'halaya': 5, 'leche': 5, 'pizza': 4, 'burger': 4, 'tocino': 4, 'brine': 4, 'ricotta': 4, 'penne': 4, 'paella': 4, 'cob': 4, 'dulong': 4, 'pumpkin': 4, 'talong': 4, 'longanisa': 4, 'tabasco': 4, 'bulalo': 4, 'peach': 4, 'sayote': 4, 'tulingan': 4, 'drumstick': 4, 'latik': 4, 'bamboo': 4, 'silken': 4, 'chive': 4, 'face': 4, 'opo': 4, 'oxtail': 4, 'nido': 4, 'molasses': 4, 'ink': 4, 'brush': 4, 'yogurt': 4, 'sili': 4, 'flower': 4, 'butterflied': 4, 'may': 4, 'saut': 4, 'lye': 4, 'grouper': 4, 'jelly': 4, 'edge': 4, 'albacore': 4, 'jaw': 4, 'oat': 4, 'tahong': 4, 'salad': 4, 'longganisa': 4, 'cornmeal': 4, 'skirt': 4, 'panutsa': 4, 'queso': 4, 'pompano': 4, 'alfredo': 4, 'plain': 4, 'mahimahi': 4, 'ahi': 4, 'vermicelli': 4, 'sauerkraut': 4, 'pod': 4, 'frost': 4, 'velveeta': 4, 'guacamole': 4, 'granule': 4, 'chile': 4, 'cranberry': 4, 'sage': 4, 'langka': 4, 'gulaman': 4, 'japanese': 4, 'matchstick': 4, 'headon': 4, 'calabasa': 4, 'pancake': 3, 'tbone': 3, 'mato': 3, 'curd': 3, 'manzanilla': 3, 'evoo': 3, 'chevon': 3, 'deli': 3, 'saluyot': 3, 'alugbati': 3, 'sparerib': 3, 'taba': 3, 'talangka': 3, 'hour': 3, 'smooth': 3, 'rhum': 3, 'thread': 3, 'prague': 3, 'sukang': 3, 'pandesal': 3, 'lamb': 3, 'kasubha': 3, 'calasparra': 3, 'pinot': 3, 'grigio': 3, 'fennel': 3, 'monamon': 3, 'palabok': 3, 'bbq': 3, 'bag': 3, 'new': 3, 'cloved': 3, 'spiral': 3, 'straw': 3, 'manok': 3, 'danggit': 3, 'panga': 3, 'atchara': 3, 'alimasag': 3, 'guisado': 3, 'giniling': 3, 'taco': 3, 'arroz': 3, 'salsa': 3, 'gill': 3, 'savoy': 3, 'spam': 3, 'kikkoman': 3, 'eddo': 3, 'depend': 3, 'monterey': 3, 'udon': 3, 'coriander': 3, 'rye': 3, 'seaweed': 3, 'ing': 3, 'crimini': 3, 'seedless': 3, 'case': 3, 'candy': 3, 'feta': 3, 'seafood': 3, 'grass': 3, 'brandy': 3, 'granny': 3, 'smith': 3, 'pinipig': 3, 'date': 3, 'make': 3, 'kabocha': 3, 'camote': 3, 'freshlyground': 3, 'chunkystyle': 3, 'gherkin': 3, 'halfshell': 3, 'kinchay': 3, 'dulce': 3, 'holiday': 2, 'home': 2, 'funtastyk': 2, 'idol': 2, 'cheesedog': 2, 'coagulate': 2, 'bagnet': 2, 'matoes': 2, 'bigas': 2, 'tahure': 2, 'chick': 2, 'redhot': 2, 'guinamos': 2, 'lard': 2, 'carajay': 2, 'drink': 2, 'hibi': 2, 'bile': 2, 'shoaxing': 2, 'bilobilo': 2, 'pine': 2, 'silver': 2, 'scoop': 2, 'shoot': 2, 'pimento': 2, 'vegetarian': 2, 'gut': 2, 'anisette': 2, 'liquor': 2, 'balaw': 2, 'maskara': 2, 'sandwich': 2, 'tiger': 2, 'tanigue': 2, 'wahoo': 2, 'adobong': 2, 'pusit': 2, 'rack': 2, 'weed': 2, 'tinta': 2, 'calamar': 2, 'cuttlefish': 2, 'bulb': 2, 'calamari': 2, 'puso': 2, 'tonkatsu': 2, 'grease': 2, 'greek': 2, 'buy': 2, 'ghost': 2, 'bud': 2, 'honeycomb': 2, 'monggo': 2, 'york': 2, 'baste': 2, 'anisado': 2, 'entrails': 2, 'bratwurst': 2, 'grade': 2, 'smelt': 2, 'cacao': 2, 'luffa': 2, 'kong': 2, 'lengua': 2, 'colorless': 2, 'pure': 2, 'embutido': 2, 'bran': 2, 'semi': 2, 'pot': 2, 'refer': 2, 'tinapang': 2, 'ribeye': 2, 'crabmeat': 2, 'lapu': 2, 'little': 2, 'blade': 2, 'littleneck': 2, 'kielbasa': 2, 'farfalle': 2, 'bow': 2, 'amarillo': 2, 'con': 2, 'dumpling': 2, 'snail': 2, 'chilli': 2, 'chipotle': 2, 'nugget': 2, 'kale': 2, 'note': 2, 'jeprox': 2, 'cod': 2, 'ongchoy': 2, 'shiromiso': 2, 'cover': 2, 'ready': 2, 'english': 2, 'muffin': 2, 'hollandaise': 2, 'squeeze': 2, 'onchoy': 2, 'chunky': 2, 'consomme': 2, 'monterrey': 2, 'dehydrate': 2, 'crouton': 2, 'lite': 2, 'sinamak': 2, 'cantaloupe': 2, 'envelope': 2, 'high': 2, 'heat': 2, 'kaiser': 2, 'wasabi': 2, 'bato': 2, 'marrow': 2, 'cardamom': 2, 'kimchi': 2, 'hull': 2, 'mi': 2, 'trung': 2, 'puti': 2, 'porterhouse': 2, 'dozen': 2, 'sub': 2, 'dashi': 2, 'go': 2, 'spear': 2, 'bola': 2, 'bullet': 2, 'rub': 2, 'vienna': 2, 'violet': 2, 'carne': 2, 'asada': 2, 'concentrate': 2, 'colby': 2, 'cavity': 2, 'cupcake': 2, 'crown': 2, 'ordinary': 2, 'ginisang': 2, 'organic': 2, 'mozarella': 2, 'nori': 2, 'sambal': 2, 'oelek': 2, 'julliened': 2, 'silverfish': 2, 'remain': 2, 'togue': 2, 'skewer': 2, 'maggi': 2, 'slightly': 2, 'one': 2, 'kosher': 2, 'center': 2, 'carabao': 2, 'snout': 2, 'pulp': 2, 'lung': 2, 'flesh': 2, 'parboil': 2, 'catfish': 2, 'andor': 2, 'deepfrying': 2, 'kecap': 2, 'manis': 2, 'lomi': 2, 'nestle': 2, 'shortgrain': 2, 'tear': 2, 'lapulapu': 2, 'dayold': 2, 'storebought': 2, 'glaze': 2, 'jam': 2, 'haba': 2, 'husk': 2, 'dust': 2, 'shellon': 2, 'drumettes': 2, 'hamonado': 2, 'lychee': 2, 'tomatobased': 2, 'funnel': 2, 'bitesize': 2, 'tb': 2, 'frog': 2, 'katsu': 1, 'qt': 1, 'life': 1, 'bago': 1, 'horse': 1, 'kasim': 1, 'garlicinfused': 1, 'kani': 1, 'furikake': 1, 'masago': 1, 'roe': 1, 'veal': 1, 'detach': 1, 'unto': 1, 'kalitiran': 1, 'wood': 1, 'tenga': 1, 'luke': 1, 'precut': 1, 'ridge': 1, 'bisque': 1, 'shishito': 1, 'amaranth': 1, 'kulitis': 1, 'staks': 1, 'garam': 1, 'masala': 1, 'air': 1, 'carabeef': 1, 'tablepespoons': 1, 'panceta': 1, 'pecorino': 1, 'uncolored': 1, 'cheek': 1, 'ubod': 1, 'cola': 1, 'similar': 1, 'pop': 1, 'butterfish': 1, 'spoon': 1, 'kung': 1, 'pao': 1, 'variety': 1, 'mlk': 1, 'creamy': 1, 'pich': 1, 'habhab': 1, 'prep': 1, 'stomach': 1, 'bowtie': 1, 'gabisliced': 1, 'tomatoe': 1, 'diliuted': 1, 'mackerel': 1, 'bat': 1, 'set': 1, 'sibot': 1, 'herb': 1, 'boullion': 1, 'opional': 1, 'deveiened': 1, 'phosphate': 1, 'vitamin': 1, 'c': 1, 'gyoza': 1, 'crused': 1, 'teaspooon': 1, 'achiote': 1, 'quiickmelt': 1, 'sugpo': 1, 'bark': 1, 'masentery': 1, 'bulaklak': 1, 'paombong': 1, 'unrefined': 1, 'kingfish': 1, 'distil': 1, 'pat': 1, 'mayonnise': 1, 'coke': 1, 'coconunut': 1, 'lareg': 1, 'loom': 1, 'oriental': 1, 'huge': 1, 'talaba': 1, 'second': 1, 'cannellini': 1, 'slced': 1, 'approximately': 1, 'santol': 1, 'colossal': 1, 'chardonnay': 1, 'unbreaded': 1, 'mochiko': 1, 'swordfish': 1, 'dungeneous': 1, 'cluster': 1, 'jetpuffed': 1, 'marshmallow': 1, 'cure': 1, 'bokchoy': 1, 'chin': 1, 'smaller': 1, 'kawaii': 1, 'chasm': 1, 'store': 1, 'chaddar': 1, 'luyang': 1, 'dilaw': 1, 'gochugaru': 1, 'korean': 1, 'pepperorn': 1, 'blanket': 1, 'dilited': 1, 'douchi': 1, 'jalape': 1, 'ed': 1, 'watermelon': 1, 'cibed': 1, 'pansit': 1, 'juilienne': 1, 'silig': 1, 'bilongbilong': 1, 'moonfish': 1, 'moscato': 1, 'hong': 1, 'pices': 1, 'sock': 1, 'steamining': 1, 'log': 1, 'classic': 1, 'morcon': 1, 'meatloaf': 1, 'superfine': 1, 'snack': 1, 'pamintang': 1, 'buo': 1, 'caster': 1, 'thoroughly': 1, 'mochico': 1, 'precleaned': 1, 'bistek': 1, 'tagalog': 1, 'kanin': 1, 'cutoff': 1, 'coleslaw': 1, 'solid': 1, 'igado': 1, 'laing': 1, 'tustadong': 1, 'place': 1, 'bowl': 1, 'crawfish': 1, 'tulapho': 1, 'lato': 1, 'goatskin': 1, 'alter': 1, 'alimango': 1, 'astuete': 1, 'shao': 1, 'xing': 1, 'st': 1, 'louisstyle': 1, 'bung': 1, 'unti': 1, 'entire': 1, 'pampanga': 1, 'presliced': 1, 'fin': 1, 'broil': 1, 'lagunitas': 1, 'sumpin': 1, 'cibes': 1, 'jute': 1, 'balayan': 1, 'moor': 1, 'kohol': 1, 'hashbrown': 1, 'fire': 1, 'yukon': 1, 'gold': 1, 'miced': 1, 'char': 1, 'siu': 1, 'kaldereta': 1, 'blackstrap': 1, 'lbmacaroni': 1, 'pressure': 1, 'cooker': 1, 'course': 1, 'assort': 1, 'indicate': 1, 'call': 1, 'fake': 1, 'paksiw': 1, 'crisy': 1, 'different': 1, 'quality': 1, 'tokwa': 1, 'ensaladang': 1, 'wild': 1, 'catch': 1, 'cedar': 1, 'plank': 1, 'least': 1, 'joint': 1, 'dory': 1, 'tripas': 1, 'boo': 1, 'skrewpine': 1, 'oven': 1, 'lasagne': 1, 'capsicum': 1, 'pate': 1, 'uncured': 1, 'freerange': 1, 'boiler': 1, 'sisig': 1, 'russet': 1, 'quantity': 1, 'desire': 1, 'itlog': 1, 'maalat': 1, 'cove': 1, 'slow': 1, 'pull': 1, 'sierra': 1, 'mist': 1, 'electric': 1, 'charcoal': 1, 'aluminum': 1, 'foil': 1, 'hoagie': 1, 'ruffle': 1, 'sunnyside': 1, 'exact': 1, 'measurement': 1, 'bulk': 1, 'hash': 1, 'peperoncini': 1, 'caesar': 1, 'bisugo': 1, 'threadfin': 1, 'bream': 1, 'pinakurat': 1, 'glutenfree': 1, 'gluten': 1, 'swai': 1, 'mr': 1, 'blend': 1, 'lawry': 1, 'resistant': 1, 'pecan': 1, 'wiener': 1, 'enchilada': 1, 'mint': 1, 'puree': 1, 'win': 1, 'ton': 1, 'necessary': 1, 'paris': 1, 'banh': 1, 'pho': 1, 'calf': 1, 'knuckle': 1, 'jasmin': 1, 'sauceor': 1, 'nonfat': 1, 'clarify': 1, 'cornish': 1, 'game': 1, 'hen': 1, 'together': 1, 'think': 1, 'mayamaya': 1, 'pancetta': 1, 'odong': 1, 'alternative': 1, 'toyo': 1, 'jollibee': 1, 'sideup': 1, 'extrafirm': 1, 'total': 1, 'weight': 1, 'collard': 1, 'tap': 1, 'forest': 1, 'hickory': 1, 'beefsteak': 1, 'sunflower': 1, 'bonito': 1, 'wakame': 1, 'caper': 1, 'pesto': 1, 'sun': 1, 'tawpe': 1, 'sponge': 1, 'sack': 1, 'meal': 1, 'poppy': 1, 'super': 1, 'sport': 1, 'edam': 1, 'mandarin': 1, 'poultry': 1, 'plat': 1, 'rabbit': 1, 'prosciutto': 1, 'rousong': 1, 'floss': 1, 'natural': 1, 'lucban': 1, 'century': 1, 'rare': 1, 'arugula': 1, 'wholegrain': 1, 'thousand': 1, 'island': 1, 'broad': 1, 'fiber': 1, 'multigrain': 1, 'giblet': 1, 'dripping': 1, 'cornbread': 1, 'rum': 1, 'horizontally': 1, 'maple': 1, 'dutchprocessed': 1, 'kfc': 1, 'gravy': 1, 'java': 1, 'scramble': 1, 'stips': 1, 'ikea': 1, 'swedish': 1, 'marinate': 1, 'artichoke': 1, 'creole': 1, 'moringa': 1, 'unprocessed': 1, 'kang': 1, 'ratio': 1, 'dinner': 1, 'tri': 1, 'vigin': 1, 'day': 1, 'old': 1, 'brussels': 1, 'tater': 1, 'tot': 1, 'iodize': 1, 'vinaigrette': 1, 'dynamite': 1, 'bisquick': 1, 'squeezedand': 1, 'fishsauce': 1, 'plaintain': 1, 'inasal': 1, 'ray': 1, 'pepperchili': 1, 'tostada': 1, 'type': 1, 'combinacion': 1, 'mariscos': 1, 'intentesines': 1, 'shimp': 1, 'guinamus': 1, 'gel': 1, 'watch': 1, 'video': 1, 'soybean': 1, 'gemelli': 1, 'shortcut': 1, 'filet': 1, 'mignon': 1, 'prune': 1, 'open': 1, 'tart': 1, 'liqueur': 1, 'almejas': 1, 'hint': 1, 'tricolor': 1, 'cookie': 1, 'crablets': 1, 'gin': 1, 'measure': 1, 'glove': 1, 'kraft': 1, 'coolwhip': 1, 'philadelphia': 1, 'heritage': 1, 'vodka': 1, 'unpeeled': 1, 'unbaked': 1, 'butterfly': 1, 'kikiam': 1, 'quekiam': 1, 'tarragon': 1, 'inihaw': 1, 'pangsigang': 1, 'ong': 1, 'softdrink': 1, 'outside': 1, 'inside': 1, 'lenght': 1, 'galangal': 1, 'flatten': 1, 'plant': 1, 'hominy': 1, 'mexican': 1, 'authentic': 1, 'processor': 1, 'liquefy': 1, 'either': 1, 'fette': 1, 'br': 1, 'germany': 1, 'kiwi': 1, 'puff': 1, 'common': 1, 'caramel': 1, 'custard': 1, 'meringue': 1, 'cherrie': 1, 'please': 1, 'caldo': 1, 'post': 1, 'king': 1, 'buttercream': 1, 'stockbroth': 1, 'equal': 1, 'available': 1, 'sushinori': 1, 'crabsticks': 1, 'catsup': 1, 'lucky': 1, 'indomie': 1, 'ramen': 1, 'oreo': 1, 'cooky': 1, 'molo': 1, 'lowsodium': 1, 'tea': 1, 'jowl': 1, 'bittermelon': 1, 'quarted': 1, 'substitute': 1, 'kesong': 1, 'thickly': 1, 'scrub': 1, 'beard': 1, 'triangle': 1, 'fit': 1, 'suman': 1, 'semiripe': 1, 'torta': 1, 'sprinkle': 1, 'thickcut': 1, 'msg': 1, 'choppped': 1, 'arrowroot': 1, 'starchflour': 1, 'brain': 1, 'kalamyas': 1, 'irok': 1, 'split': 1, 'zealand': 1, 'flan': 1, 'cremini': 1, 'chow': 1, 'mein': 1, 'skinon': 1, 'salaysalay': 1, 'attach': 1, 'pear': 1, 'yakisoba': 1, 'pigue': 1, 'edamame': 1, 'nutella': 1, 'cool': 1, 'velvetta': 1, 'melat': 1, 'twoinch': 1, 'ramekin': 1, 'fusilli': 1, 'coil': 1, 'ounes': 1, 'togi': 1, 'cutup': 1, 'lily': 1, 'allspice': 1, 'sultana': 1, 'pili': 1, 'nectar': 1, 'tropical': 1, 'pancreas': 1, 'six': 1, 'bagiuo': 1, 'fivespice': 1, 'magic': 1, 'sarap': 1, 'annnato': 1, 'yard': 1, 'tube': 1, 'biscuit': 1, 'golden': 1, 'pak': 1, 'choi': 1, 'shumai': 1, 'arnibal': 1, 'unwashed': 1, 'wilt': 1, 'balut': 1, 'sliver': 1, 'munggo': 1, 'lardchilled': 1, 'unpack': 1, 'four': 1, 'keep': 1, 'freshlysqueeze': 1, 'drummettes': 1, 'wingettes': 1, 'stirfry': 1, 'intoinch': 1, 'persian': 1, 'sushigrade': 1, 'maui': 1, 'macadamia': 1, 'chiffonaded': 1, 'springroll': 1, 'shuck': 1, 'knox': 1, 'break': 1, 'ancho': 1, 'guajillo': 1, 'gouda': 1, 'mild': 1, 'pampano': 1, 'cutlet': 1, 'pinpig': 1, 'finelyminced': 1, 'inchthick': 1, 'fully': 1, 'yet': 1, 'guyabano': 1, 'quickmelting': 1, 'hog': 1, 'kitchen': 1, 'twine': 1, 'labong': 1, 'native': 1, 'pectin': 1, 'dalag': 1, 'mudfish': 1})\n"
     ]
    }
   ],
   "source": [
    "from collections import Counter\n",
    "results = Counter()\n",
    "recipe_df['ingredients_clean'].str.lower().str.split().apply(results.update)\n",
    "print(results)"
   ]
  },
  {
   "cell_type": "code",
   "execution_count": 12,
   "id": "97f70524",
   "metadata": {},
   "outputs": [],
   "source": [
    "recipe_df.to_csv(\"data/filipino_recipe_clean.csv\", index=False)"
   ]
  },
  {
   "cell_type": "code",
   "execution_count": 22,
   "id": "c148676e",
   "metadata": {},
   "outputs": [],
   "source": [
    "tf = TfidfVectorizer(analyzer='word', ngram_range=(1, 3), min_df=0, stop_words='english')\n",
    "tfidf_matrix = tf.fit_transform(recipe_df['ingredients_clean'])"
   ]
  },
  {
   "cell_type": "code",
   "execution_count": 46,
   "id": "921af336",
   "metadata": {},
   "outputs": [],
   "source": [
    "test = tf.transform(['avocado'])"
   ]
  },
  {
   "cell_type": "code",
   "execution_count": 47,
   "id": "f9259b4d",
   "metadata": {},
   "outputs": [],
   "source": [
    "test_list = cosine_similarity(tfidf_matrix, test)\n",
    "indexes = sorted(range(len(test_list)), key = lambda sub: test_list[sub])[-5:]"
   ]
  },
  {
   "cell_type": "code",
   "execution_count": 48,
   "id": "8e9bcf2a",
   "metadata": {},
   "outputs": [
    {
     "data": {
      "text/plain": [
       "[1145, 2051, 2176, 1335, 2163]"
      ]
     },
     "execution_count": 48,
     "metadata": {},
     "output_type": "execute_result"
    }
   ],
   "source": [
    "indexes"
   ]
  },
  {
   "cell_type": "code",
   "execution_count": 53,
   "id": "b7fd328d",
   "metadata": {},
   "outputs": [
    {
     "data": {
      "text/plain": [
       "url                  https://panlasangpinoy.com/bacon-and-avocado-s...\n",
       "food                                        Bacon and Avocado Sandwich\n",
       "course                                                            none\n",
       "ingredients          3 bacon strips cooked crisp, 1 leaf curly lett...\n",
       "instructions         Combine the mustard and mayonnaise. Mix well. ...\n",
       "ingredients_clean    bacon leaf lettuce tomato avocado dijon mustar...\n",
       "ingredients_token    [bacon, leaf, lettuce, tomato, avocado, dijon,...\n",
       "Name: 1145, dtype: object"
      ]
     },
     "execution_count": 53,
     "metadata": {},
     "output_type": "execute_result"
    }
   ],
   "source": [
    "recipe_df.iloc[1145]"
   ]
  }
 ],
 "metadata": {
  "kernelspec": {
   "display_name": "Python 3 (ipykernel)",
   "language": "python",
   "name": "python3"
  },
  "language_info": {
   "codemirror_mode": {
    "name": "ipython",
    "version": 3
   },
   "file_extension": ".py",
   "mimetype": "text/x-python",
   "name": "python",
   "nbconvert_exporter": "python",
   "pygments_lexer": "ipython3",
   "version": "3.9.12"
  }
 },
 "nbformat": 4,
 "nbformat_minor": 5
}
