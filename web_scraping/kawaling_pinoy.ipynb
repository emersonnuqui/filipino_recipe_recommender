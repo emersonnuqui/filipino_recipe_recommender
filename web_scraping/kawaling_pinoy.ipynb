{
 "cells": [
  {
   "cell_type": "markdown",
   "id": "ef73a612",
   "metadata": {
    "toc": true
   },
   "source": [
    "<h1>Table of Contents<span class=\"tocSkip\"></span></h1>\n",
    "<div class=\"toc\"><ul class=\"toc-item\"></ul></div>"
   ]
  },
  {
   "cell_type": "code",
   "execution_count": 2,
   "id": "5549da63",
   "metadata": {},
   "outputs": [],
   "source": [
    "#Import packages\n",
    "from selenium import webdriver\n",
    "\n",
    "from selenium.webdriver.common.keys import Keys\n",
    "from selenium.webdriver.support import expected_conditions as EC\n",
    "from selenium.webdriver.support.expected_conditions import visibility_of_element_located\n",
    "from webdriver_manager.chrome import ChromeDriverManager\n",
    "from selenium.webdriver.chrome.options import Options\n",
    "from selenium.webdriver.common.by import By\n",
    "\n",
    "from selenium.webdriver.support.wait import WebDriverWait\n",
    "\n",
    "from datetime import datetime\n",
    "import pandas as pd\n",
    "import numpy as np\n",
    "import random\n",
    "import time\n",
    "import os\n",
    "import re"
   ]
  },
  {
   "cell_type": "code",
   "execution_count": 5,
   "id": "de9fc522",
   "metadata": {
    "scrolled": true
   },
   "outputs": [
    {
     "name": "stdout",
     "output_type": "stream",
     "text": [
      "\n"
     ]
    },
    {
     "name": "stderr",
     "output_type": "stream",
     "text": [
      "C:\\Users\\Emong\\AppData\\Local\\Temp\\ipykernel_17996\\3753864439.py:13: DeprecationWarning: executable_path has been deprecated, please pass in a Service object\n",
      "  driver = webdriver.Chrome(ChromeDriverManager().install(), options=options)\n"
     ]
    },
    {
     "name": "stdout",
     "output_type": "stream",
     "text": [
      "Harvesting page: 1....Saved!\n",
      "Harvesting page: 2....Saved!\n",
      "Harvesting page: 3....Saved!\n",
      "Harvesting page: 4....Saved!\n",
      "Harvesting page: 5....Saved!\n",
      "Harvesting page: 6....Saved!\n",
      "Harvesting page: 7....Saved!\n",
      "Harvesting page: 8....Saved!\n",
      "Harvesting page: 9....Saved!\n",
      "Harvesting page: 10....Saved!\n",
      "Harvesting page: 11....Saved!\n",
      "Harvesting page: 12....Saved!\n",
      "Harvesting page: 13....Saved!\n",
      "Harvesting page: 14....Saved!\n",
      "Harvesting page: 15....Saved!\n",
      "Harvesting page: 16....Saved!\n",
      "Harvesting page: 17....Saved!\n",
      "Harvesting page: 18....Saved!\n",
      "Harvesting page: 19....Saved!\n",
      "Harvesting page: 20....Saved!\n",
      "Harvesting page: 21....Saved!\n",
      "Harvesting page: 22....Saved!\n",
      "Harvesting page: 23....Saved!\n",
      "Harvesting page: 24....Saved!\n",
      "Harvesting page: 25....Saved!\n",
      "Harvesting page: 26....Saved!\n",
      "Harvesting page: 27....Saved!\n",
      "Harvesting page: 28....Saved!\n",
      "Harvesting page: 29....Saved!\n",
      "Harvesting page: 30....Saved!\n",
      "Harvesting page: 31....Saved!\n",
      "Harvesting page: 32....Saved!\n",
      "Harvesting page: 33....Saved!\n",
      "Harvesting page: 34....Saved!\n",
      "Scraping stopped moving\n"
     ]
    }
   ],
   "source": [
    "options = webdriver.ChromeOptions()\n",
    "capabilities = options.to_capabilities()\n",
    "capabilities = {\n",
    " 'browser': 'chrome',\n",
    " 'browser_version': 'latest',\n",
    " 'os': 'Windows',\n",
    " 'os_version': '10',\n",
    " 'build': 'Python Sample Build',\n",
    " 'name': 'Pop-ups testing'\n",
    "}\n",
    "#capabilities[\"chromeOptions\"][\"excludeSwitches\"] = [\"disable-popup-blocking\"]\n",
    "\n",
    "driver = webdriver.Chrome(ChromeDriverManager().install(), options=options)\n",
    "driver.maximize_window()\n",
    "\n",
    "url = \"https://www.kawalingpinoy.com/recipe-index/\"\n",
    "\n",
    "driver.get(url)\n",
    "driver.implicitly_wait(8)\n",
    "\n",
    "page = 1\n",
    "\n",
    "while True:\n",
    "    try:\n",
    "        print(f'Harvesting page: {page}....', end=\"\")\n",
    "        \n",
    "        urls = []\n",
    "        \n",
    "        total_height = int(driver.execute_script(\"return document.body.scrollHeight\"))\n",
    "        for i in range(1, total_height, 15):\n",
    "            driver.execute_script(\"window.scrollTo(0, {});\".format(i))\n",
    "            \n",
    "        recipe = driver.find_elements(By.XPATH, '//header[@class=\"entry-header\"]//a[@rel = \"bookmark\"]')\n",
    "\n",
    "        for _recipe in recipe:\n",
    "            urls.append({\"url\":_recipe.get_attribute('href')})\n",
    "            \n",
    "        url_df = pd.DataFrame(urls)\n",
    "        url_df.to_csv(\"recipe_data/kawaling_pinoy_\" + str(page) + \".csv\", index=False)\n",
    "        print(\"Saved!\")\n",
    "        \n",
    "        start_url = driver.current_url\n",
    "        time.sleep(0.5)\n",
    "\n",
    "        next_page = driver.find_element(By.XPATH, \"//li[@class='pagination-next']\")\n",
    "        next_page.click()\n",
    "        time.sleep(1)\n",
    "        \n",
    "        \n",
    "        time.sleep(1)\n",
    "        \n",
    "        next_url = driver.current_url\n",
    "        if start_url == next_url:\n",
    "            print(f\"Scraper stopped moving, scaping ended at page {page}\")\n",
    "            break\n",
    "\n",
    "        page += 1\n",
    "        \n",
    "    except:\n",
    "        print(\"Scraping stopped moving\")\n",
    "        break\n",
    "        \n"
   ]
  },
  {
   "cell_type": "code",
   "execution_count": 14,
   "id": "6e917e1a",
   "metadata": {},
   "outputs": [],
   "source": [
    "url = pd.DataFrame({\"url\":[]})\n",
    "\n",
    "for i in range(1,35):\n",
    "    df = pd.read_csv(\"recipe_data/kawaling_pinoy_\"+str(i)+\".csv\")\n",
    "    url = pd.concat([url, df], axis=0)\n",
    "    \n",
    "data_url = url.reset_index(drop=True)\n"
   ]
  },
  {
   "cell_type": "code",
   "execution_count": 17,
   "id": "3706c6c0",
   "metadata": {
    "scrolled": false
   },
   "outputs": [
    {
     "name": "stdout",
     "output_type": "stream",
     "text": [
      "\n"
     ]
    },
    {
     "name": "stderr",
     "output_type": "stream",
     "text": [
      "C:\\Users\\Emong\\AppData\\Local\\Temp\\ipykernel_3104\\53874205.py:1: DeprecationWarning: executable_path has been deprecated, please pass in a Service object\n",
      "  driver = webdriver.Chrome(ChromeDriverManager().install())\n"
     ]
    }
   ],
   "source": [
    "driver = webdriver.Chrome(ChromeDriverManager().install())\n",
    "recipes = []\n",
    "\n",
    "for food in data_url[\"url\"]:\n",
    "    driver.get(food)\n",
    "    time.sleep(2)\n",
    "    try:\n",
    "        meal = driver.find_element(By.XPATH,\"//div[@class='wprm-recipe-custom-card-by-once-coupled']//h2[@class='wprm-recipe-name wprm-block-text-normal']\").text\n",
    "    except:\n",
    "        meal = 'none'\n",
    "    #description = driver.find_element(By.XPATH,\"//div[@class='wprm-recipe-custom-card-by-once-coupled']//div[@class='wprm-recipe-summary wprm-block-text-normal']\").text\n",
    "    #prep_and_cook_time = driver.find_elements(By.XPATH,\"//div[@class='wprm-recipe-custom-card-by-once-coupled']//span[@class='wprm-recipe-time wprm-block-text-normal']\")\n",
    "    try:\n",
    "        course = driver.find_element(By.XPATH,\"//div[@class='wprm-recipe-custom-card-by-once-coupled']//span[@class='wprm-recipe-course wprm-block-text-normal']\").text\n",
    "    except:\n",
    "        course = 'none'\n",
    "    #review = driver.find_element(By.XPATH,\"//div[@class='wprm-recipe-custom-card-by-once-coupled']//span[@class='wprm-recipe-rating-average']\").text\n",
    "    #number_of_review = driver.find_element(By.XPATH,\"//div[@class='wprm-recipe-custom-card-by-once-coupled']//span[@class='wprm-recipe-rating-count']\").text\n",
    "    try:\n",
    "        instruction = driver.find_element(By.XPATH,\"//div[@class='wprm-recipe-custom-card-by-once-coupled']//ul[@class='wprm-recipe-instructions']\").text\n",
    "    except:\n",
    "        instruction = 'none'\n",
    "    try:\n",
    "        ingredient_list = driver.find_elements(By.XPATH,\"//div[@class='wprm-recipe-custom-card-by-once-coupled']//li[@class='wprm-recipe-ingredient']\")\n",
    "        ingredients = []\n",
    "        for i in range(0, len(ingredient_list)):\n",
    "            ingredients.append(ingredient_list[i].text)\n",
    "        ingredients = ', '.join(ingredients)\n",
    "    except:\n",
    "        ingredients = 'none'\n",
    "    \n",
    "    recipes.append({\n",
    "        \"url\": food,\n",
    "        \"food\": meal,\n",
    "        \"course\": course,\n",
    "        #\"description\": description,\n",
    "        #\"prep time\": prep_and_cook_time[0].text,\n",
    "        #\"cook time\": prep_and_cook_time[1].text,\n",
    "        #\"number of serving\": number_of_serving, \n",
    "        #\"calories\": calories,\n",
    "        \"ingredients\": ingredients,\n",
    "        \"instructions\": instruction\n",
    "        })\n",
    "    time.sleep(2)\n",
    "\n",
    "kawaling_pinoy_df = pd.DataFrame(recipes)\n",
    "kawaling_pinoy_df.to_csv(\"recipe_data/kawaling_pinoy.csv\", index=False)"
   ]
  },
  {
   "cell_type": "code",
   "execution_count": 16,
   "id": "81e55f73",
   "metadata": {},
   "outputs": [
    {
     "data": {
      "text/plain": [
       "[{'url': 'https://www.kawalingpinoy.com/salted-egg-shrimp/',\n",
       "  'food': 'Salted Eggs Shrimp',\n",
       "  'course': 'Main Entree',\n",
       "  'ingredients': '1 pound large shrimp, 2 tablespoons butter, 1 tablespoon oil, 2 shallots, peeled and finely chopped, 2 cloves garlic, peeled and minced, 2 Thai chili peppers, stemmed and minced, 1 cup evaporated milk, 6 salted egg yolks, mashed, 1/2 teaspoon sugar, salt to taste',\n",
       "  'instructions': 'Trim tendrils of shrimp and rinse under cold water. In a colander, drain very well.\\nIn a wide pan over medium heat, heat butter and oil.\\nWhen butter begins to melt, Add shallots, garlic, and chili peppers. Cook, stirring regularly, for about 1 minute or until softened.\\nReduce heat, add evaporated milk, and bring to a simmer.\\nAdd salted egg yolks and continue to cook, mashing yolks with back of spoon, for about 1 minute or until slightly thickened.\\nAdd sugar and season with salt to taste.\\nAdd shrimp and cook, stirring occasionally, until color changes to pink and the sauce thickens.\\nRemove from heat and serve hot.'},\n",
       " {'url': 'https://www.kawalingpinoy.com/chop-suey-with-tofu-and-shiitake-mushrooms/',\n",
       "  'food': 'Chop Suey with Tofu and Shitake Mushrooms',\n",
       "  'course': 'Main Entree',\n",
       "  'ingredients': '1 package (12 ounces) tofu, 6 pieces Shiitake mushrooms, 1 broccoli crown, cut into florets, 2 large carrots, peeled and cut thinly in a bias, 1/2 small cabbage, cut into pieces, water, oil, 1 small onion, peeled and sliced thinly, 2 cloves garlic, peeled and minced, 1 tablespoon corn starch, salt and pepper to taste',\n",
       "  'instructions': 'Remove tofu from packaging and drain from packing liquid. Wrap in paper towels, set on a wire rack or colander and weigh down with a saucer for about 15 to 20 minutes to extract moisture. Cut into 1-inch cubes.\\nIn deep, wide pan, heat about 2-inches deep of oil until very hot but not smoking. Add tofu in batches and cook, turning as needed, until golden and crisp. With a slotted spoon, remove from pan and drain on paper towels.\\nIn a bowl, soak mushrooms in 1 1/2 cups of warm water for about 15 to 20 minutes or until softened. With hands, squeeze mushrooms to extract liquid. Reserve 1 cup of the soaking liquid. Trim mushroom stems and cut caps into halves.\\nFill a bowl halfway with ice and enough water to cover ice. Add ½ teaspoon salt for each quart of water. Set aside.\\nIn a sauce pan, add 3 cups of salted water and bring to a boil. Add carrots and cook for about 1 minute or until half done. With a slotted spoon, remove from pan and plunge into bowl of ice bath. Add broccoli to the boiling water and cook for about 2 to 3 minutes or until half done. With a slotted spoon, remove from pan and plunge into bowl of ice bath. Add cabbage to the boiling water and cook for about 30 seconds or until half done. With a slotted spoon, remove from pan and plunge into bowl of ice bath. Reserve 2 cups of the poaching liquid (the one used to blanch vegetables). Drain vegetables from the ice bath when they are cold.\\nIn a wok or wide skillet or medium heat, heat oil. Add onions and garlic and cook until softened.\\nIn a bowl, combine reserved 1 cup of poaching liquid (from par-boiling vegetables), 1 cup of the soaking liquid (from soaking mushrooms), and cornstarch. Stir until cornstarch is well dissolved. Add to wok and bring to a simmer until slightly thickened. \\nAdd parboiled vegetables, fried tofu, and Shiitake mushrooms, stirring to combine, and cook for about 3 to 5 minutes or until vegetables are heated through. Season with salt and pepper to taste. Serve hot.'},\n",
       " {'url': 'https://www.kawalingpinoy.com/ginataang-kalabasa-sitaw-at-hipon/',\n",
       "  'food': 'Ginataang Kalabasa, Sitaw at Hipon',\n",
       "  'course': 'Main Entree, Side Dish',\n",
       "  'ingredients': '1 tablespoon canola oil, 1 onion, peeled and chopped, 3 cloves garlic, peeled and minced, 1 tablespoon fish sauce, 2 cups coconut milk, 2 finger chili peppers, 2 cups kalabasa (kabocha squash), pared, seeded and cut into 2-inch chunks, 2 cups sitaw (long beans), ends trimmed and cut into 3-inch lengths, 1/2 pound large shrimp, tendrils trimmed, salt to taste',\n",
       "  'instructions': 'In a wide pan over medium heat, heat oil. Add onions and garlic and cook until softened.\\nAdd fish sauce and continue to cook, stirring occasionally, for about 1 minute.\\nAdd coconut milk and chili peppers. Bring to a simmer. Lower heat and continue to cook for about 3 to 5minutes or until slightly reduced.\\nAdd squash and cook for about 3 to 5 minutes or until tender but not falling apart.\\nAdd long beans and cook for 3 to 5 minutes or until vegetables are tender.\\nAdd shrimp and continue to cook for about 4 to 5 minutes or until color changes.\\nSeason with salt to taste. Serve hot.'},\n",
       " {'url': 'https://www.kawalingpinoy.com/pineapple-upside-down-cake/',\n",
       "  'food': 'Pineapple Upside-down Cake',\n",
       "  'course': 'Baked Goods, Dessert',\n",
       "  'ingredients': '5 tablespoons butter, 3/4 cup light brown sugar, packed, 2 teaspoons lemon juice, 7 pineapple rings, 7 maraschino cherries, 1/2 cup butter, room temperature, 2 tablespoons vegetable oil, 1 cup granulated sugar, 1/4 cup light brown sugar, packed, 2 large eggs, 2 cups flour, 1 tablespoon baking powder, 1/2 teaspoon salt, 1/4 cup milk, 1/4 cup sour cream, 1/4 cup pineapple juice (from the canned pineapples), 2 teaspoons vanilla extract',\n",
       "  'instructions': 'In a skillet over medium heat, add the butter and brown sugar. Cook, stirring regularly, until melted and bubbling. The mixture will be grainy.\\nStir in the lemon juice and cook, stirring regularly, until the mixture is bubbly and fluid.\\nRemove pan from the heat and transfer the caramel to a 9 x 4-inch round baking dish, swirling to cover the bottom of the pan.\\nArrange the pineapple rings in the syrup close together but not overlapping. Place a maraschino cherry in each pineapple hole. Set aside.\\nIn a large bowl, add the room-temperature butter, vegetable oil, granulated sugar, and brown sugar. Using a hand mixer at medium speed, beat until creamy.\\nAdd the eggs one at a time, beat well after each addition.\\nIn a separate bowl, sift together the flour, baking powder, and salt. \\nIn another bowl, combine milk, sour cream, pineapple juice, and vanilla extract. Whisk until blended.\\nBeginning and ending with the flour mixture, add flour mixture and milk mixture alternately to the egg mixture. Beat at low speed with every addition. The batter will be thick.\\nSpoon the batter over the pineapples, carefully as not to shift or move the fruits. Using a spatula, spread and smoothen it evenly.\\nBake in a preheated 350 F oven for about 45 to 50 minutes or until golden brown and a toothpick inserted in the center comes out clean.\\nRemove from the oven and run a small spatula around the cake to loosen.\\nPlace a serving platter over the baking pan and using hand mittens, carefully invert and turn out the cake onto the platter. Brown sugar topping will be very hot.'},\n",
       " {'url': 'https://www.kawalingpinoy.com/biko/',\n",
       "  'food': 'Biko',\n",
       "  'course': 'Dessert',\n",
       "  'ingredients': '1 cup coconut cream (kakang gata), 3 cups coconut milk, 2 cups glutinous rice, 1 1/2 cups water, 1 cup dark brown sugar, 1/2 teaspoon salt',\n",
       "  'instructions': 'In a pan over medium heat, add the coconut cream and bring to a boil. Continue to cook, stirring occasionally, until liquid starts to thicken. \\nLower heat and simmer. As oil starts to separate and solids begin to form, regularly stir and scrape sides and bottom of the pan to prevent from burning.\\nContinue to cook and stir until curds turn golden brown. Using a fine-mesh sieve or colander, drain latik. Reserve oil.\\nGrease bottom and sides of the baking dish with coconut oil. Set aside.\\nWash glutinous rice a few times or until water runs almost clear. Drain well.\\nIn a thick bottom pot, combine rice and water. Over medium heat, bring to a boil. Lower heat, cover, and cook until liquid is absorbed. Allow to cool to touch and fluff with a fork to separate grains.\\nIn a wide non-stick skillet over medium heat, combine coconut milk, brown sugar, and salt. Stir until blended and bring to a boil.\\nLower heat and continue to cook until slightly reduced and thickened.\\nAdd rice, gently stirring to evenly distribute. Cook, stirring occasionally, for about 1 hour or until mixture is very thick, sticky, and pulls away from the sides of the pan. \\nSpoon biko into the prepared baking dish and pat down with a lightly greased spatula to even out.\\nLightly brush top with coconut oil, cut into portions, and top with latik. '},\n",
       " {'url': 'https://www.kawalingpinoy.com/kangkong-and-tofu-with-oyster-sauce/',\n",
       "  'food': 'Kangkong and Tofu with Oyster Sauce',\n",
       "  'course': 'Main Entree, Side Dish',\n",
       "  'ingredients': '1 bunch kangkong, 1 package (12 ounces) firm tofu, 1/2 cup canola oil, 2 tablespoons oyster sauce, 1/4 cup water, 1 tablespoon chili garlic sauce, 1 teaspoon sesame oil, 1 teaspoon cornstarch, 1 peeled and sliced thinly',\n",
       "  'instructions': 'Drain tofu from packing liquid. Pat dry with paper towels to absorb moisture. Cut into 1/2- inch cubes.\\nTrim about 2 inches from the kangkong stalks and discard. Cut kangkong into 3-inch lengths, separating the sturdier stalks from the leaves. Wash thoroughly and drain well.\\nIn a bowl, combine oyster sauce, chili garlic sauce, water, sesame oil and cornstarch. Stir until well-blended and set aside.\\nIn a wide skillet over medium heat, heat oil until hot. Add tofu and cook until golden and crispy. Remove from pan, drain excess oil on paper towels and keep warm.\\nRemove excess oil from the pan except for about 2 tablespoons. add onions and cook until softened.\\nIncrease heat to high. Add sauce mixture and cook until bubbly, stirring until thickened.\\nAdd sturdy stalks and cook for about 30 seconds or until half done.\\nAdd kangkong leaves and cook, stirring regularly, for another 30 seconds or until tender yet crisp.\\nAdd tofu and quickly toss until lighted coated with sauce.\\nSeason with salt and pepper to taste. Serve hot.'},\n",
       " {'url': 'https://www.kawalingpinoy.com/kansi/',\n",
       "  'food': 'Kansi',\n",
       "  'course': 'Main Entree',\n",
       "  'ingredients': '2 pounds beef shanks, 2 stalks lemongrass, 1 tablespoon canola oil, 4 cloves garlic, peeled and minced, 8 cups water, 1 thumb-size ginger, peeled and minced, 1 onion, peeled and quartered, 1 tablespoon annatto powder, 1 package (1.41 ounces) tamarind powder soup base, 1 can (20 ounces) green jackfruit, drained, 8 pieces kamias, 2 Thai chili peppers, salt and pepper to taste',\n",
       "  'instructions': 'Rinse beef shanks well to remove any blood or impurities. Drain well.\\nPeel the outer layer of the lemongrass stalks until you reach the pale central core. Cut into 3 to 4-inch lengths and with the back of the knife, lightly pound each piece. Set aside.\\nIn a deep pot over medium heat, heat oil. Add beef shanks and cook, turning as needed, until lightly seared.\\nAdd garlic and cook, stirring regularly, until softened.\\nAdd water and bring to a boil, skimming scum that floats on top. When the broth clears, add onion.\\nLower heat, cover, and simmer for about 1 1/2 to 2 hours or until meat is fork-tender.\\nIn a small bowl, combine annatto powder with about 1/2 cup of the broth. Stir until annatto powder is dissolved and return broth to the pot.\\nAdd tamarind soup base. Stir to disperse.\\nAdd lemongrass, green jackfruit, kamias, and chili peppers. Continue to cook for about 10 to 15 minutes or until jackfruit pieces are heated.\\nSeason with salt and pepper to taste. Serve hot.'},\n",
       " {'url': 'https://www.kawalingpinoy.com/white-buko-salad/',\n",
       "  'food': 'White Buko Salad',\n",
       "  'course': 'Dessert',\n",
       "  'ingredients': '2 bars agar agar, shredded into small pieces, 3 cups coconut juice, 1 cup sugar, 2 cups shredded young coconut (buko), 1 bottle (12 ounces) white nata de coco, drained, 1 bottle (12 ounces) white kaong, drained, 1 can (14 ounces) all-purpose cream, 1 can (14 ounces) condensed milk',\n",
       "  'instructions': 'In a pot, combine white agar-agar and coconut juice. Soak for at least 30 minutes.\\nAfter 30 minutes, bring to a boil. Cook, stirring regularly, until agar agar is melted.\\nAdd sugar and stir until sugar is melted. Cook for about 15 to 20 minutes or until the mixture is clear and no longer cloudy.\\nTransfer to a flat dish and allow to cool until hardened. Cut into ½ inch cubes.\\nIn a large bowl, combine gulaman cubes, shredded young coconut, white nata de coco, white kaong, all-purpose cream, and condensed milk. Stir well.\\nRefrigerate for about 1 to 2 hours until well chilled or freeze for about 4 to 5 hours until firm.'},\n",
       " {'url': 'https://www.kawalingpinoy.com/crispy-pork-binagoongan/',\n",
       "  'food': 'none',\n",
       "  'course': 'none',\n",
       "  'ingredients': 'none',\n",
       "  'instructions': 'none'}]"
      ]
     },
     "execution_count": 16,
     "metadata": {},
     "output_type": "execute_result"
    }
   ],
   "source": [
    "recipes"
   ]
  },
  {
   "cell_type": "code",
   "execution_count": 10,
   "id": "d4cfa486",
   "metadata": {},
   "outputs": [
    {
     "data": {
      "text/plain": [
       "594"
      ]
     },
     "execution_count": 10,
     "metadata": {},
     "output_type": "execute_result"
    }
   ],
   "source": [
    "len(recipes)"
   ]
  },
  {
   "cell_type": "code",
   "execution_count": 37,
   "id": "fdc50908",
   "metadata": {},
   "outputs": [
    {
     "data": {
      "text/plain": [
       "url             0\n",
       "food            0\n",
       "prep time       0\n",
       "cook time       0\n",
       "ingredients     0\n",
       "instructions    0\n",
       "dtype: int64"
      ]
     },
     "execution_count": 37,
     "metadata": {},
     "output_type": "execute_result"
    }
   ],
   "source": [
    "final_data.isna().sum()"
   ]
  }
 ],
 "metadata": {
  "kernelspec": {
   "display_name": "Python 3 (ipykernel)",
   "language": "python",
   "name": "python3"
  },
  "language_info": {
   "codemirror_mode": {
    "name": "ipython",
    "version": 3
   },
   "file_extension": ".py",
   "mimetype": "text/x-python",
   "name": "python",
   "nbconvert_exporter": "python",
   "pygments_lexer": "ipython3",
   "version": "3.9.12"
  },
  "toc": {
   "base_numbering": 1,
   "nav_menu": {},
   "number_sections": true,
   "sideBar": true,
   "skip_h1_title": false,
   "title_cell": "Table of Contents",
   "title_sidebar": "Contents",
   "toc_cell": true,
   "toc_position": {},
   "toc_section_display": true,
   "toc_window_display": false
  }
 },
 "nbformat": 4,
 "nbformat_minor": 5
}
